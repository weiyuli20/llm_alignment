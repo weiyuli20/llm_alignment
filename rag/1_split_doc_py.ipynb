{
  "cells": [
    {
      "cell_type": "code",
      "execution_count": null,
      "metadata": {
        "colab": {
          "base_uri": "https://localhost:8080/"
        },
        "id": "WXATSAZIbucF",
        "outputId": "9fd74a1b-a4f8-457d-e54f-55b8dc753256"
      },
      "outputs": [
        {
          "output_type": "stream",
          "name": "stdout",
          "text": [
            "Archive:  /content/sample_data/final_docs.zip\n",
            "   creating: final_docs/\n",
            "  inflating: final_docs/专业提升.md  \n",
            "  inflating: final_docs/公司2025年安全技术劳动保护措施项目信息表.pdf_optim_notable.md  \n",
            "  inflating: final_docs/内网门户使用帮助.pdf_optim_notable.md  \n",
            "  inflating: final_docs/办公室（党委办公室）_岗位绩效工资管理实施方案及薪酬相关政策解读_20230716.pdf_optim_notable.md  \n",
            "  inflating: final_docs/办公室（党委办公室）_技能等级评价方式一览表_20230716.pdf_optim_notable.md  \n",
            "  inflating: final_docs/员工规章制度应知应会手册.pdf_optim_notable.md  \n",
            "  inflating: final_docs/国网后勤服务标准及规范.pdf_optim_notable.md  \n",
            "  inflating: final_docs/国网陕西省电力公司补充医疗保险实施办法.pdf_optim_notable.md  \n",
            "  inflating: final_docs/国网陕西省电力有限公司2025年离退休工作要点.pdf_optim_notable.md  \n",
            "  inflating: final_docs/国网陕西省电力有限公司AED管理暂行规定.pdf_optim_notable.md  \n",
            "  inflating: final_docs/国网陕西省电力有限公司“宽带岗级”岗位绩效工资实施细则.pdf_optim_notable.md  \n",
            "  inflating: final_docs/国网陕西省电力有限公司应执行规章制度目录（2025版）.pdf_optim_notable.md  \n",
            "  inflating: final_docs/国网陕西省电力有限公司本部绩效考核管理办法.pdf_optim_notable.md  \n",
            "  inflating: final_docs/培训相关要求.pdf_optim_notable.md  \n",
            "  inflating: final_docs/岗位晋升机制.md  \n",
            "  inflating: final_docs/本部部门业绩考核指标体系及评价标准.pdf_optim_notable.md  \n",
            "  inflating: final_docs/电力安全工作规程_安全规程电缆部分.pdf_optim_notable.md  \n",
            "  inflating: final_docs/电力安全网_工伤保险条例（第一章）_notable.md  \n",
            "  inflating: final_docs/电力安全网_工伤保险条例（第七章）_notable.md  \n",
            "  inflating: final_docs/电力安全网_工伤保险条例（第三章）_notable.md  \n",
            "  inflating: final_docs/电力安全网_工伤保险条例（第二章）_notable.md  \n",
            "  inflating: final_docs/电力安全网_工伤保险条例（第五章）_notable.md  \n",
            "  inflating: final_docs/电力安全网_工伤保险条例（第六章）_notable.md  \n",
            "  inflating: final_docs/电力安全网_工伤保险条例（第四章）_notable.md  \n",
            "  inflating: final_docs/百度文库_国家电网公司企业文化手册_notable.md  \n",
            "  inflating: final_docs/职称申报规范国网人才〔2025〕11号.pdf_optim_notable.md  \n",
            "  inflating: final_docs/陕电人资〔2023〕76号　国网陕西省电力有限公司关于印发《国网陕西省电力有限公司“宽带岗级”岗位绩效工资实施细则》的通知.pdf_optim_notable.md  \n",
            "  inflating: final_docs/陕电企管〔2025〕23号　国网陕西省电力有限公司关于进一步加强企业年金规范管理的通知.pdf_optim_notable.md  \n",
            "  inflating: final_docs/陕电企管〔2025〕33号　国网陕西省电力有限公司关于进一步加强工作场所“4分钟应急救援圈”建设工作的通知.pdf_optim_notable.md  \n",
            "  inflating: final_docs/陕电后勤〔2024〕21号　国网陕西省电力有限公司关于印发职工共享驿站（服务点）建设工作方案的通知.pdf_optim_notable.md  \n",
            "  inflating: final_docs/陕电工发〔2023〕14号　国网陕西电力工会关于进一步加强“三必贺、三必访、三必送”为职工办实事工作的通知.pdf_optim_notable.md  \n"
          ]
        }
      ],
      "source": [
        "! unzip /content/sample_data/final_docs.zip"
      ]
    },
    {
      "cell_type": "code",
      "execution_count": null,
      "metadata": {
        "colab": {
          "base_uri": "https://localhost:8080/"
        },
        "id": "vXTpqHaci7lV",
        "outputId": "8f653491-cf63-4671-d27d-ff40d629ea42"
      },
      "outputs": [
        {
          "output_type": "stream",
          "name": "stdout",
          "text": [
            "Collecting langchain_openai\n",
            "  Downloading langchain_openai-1.0.0-py3-none-any.whl.metadata (1.8 kB)\n",
            "Collecting langchain-core<2.0.0,>=1.0.0 (from langchain_openai)\n",
            "  Downloading langchain_core-1.0.0-py3-none-any.whl.metadata (3.4 kB)\n",
            "Requirement already satisfied: openai<3.0.0,>=1.109.1 in /usr/local/lib/python3.12/dist-packages (from langchain_openai) (1.109.1)\n",
            "Requirement already satisfied: tiktoken<1.0.0,>=0.7.0 in /usr/local/lib/python3.12/dist-packages (from langchain_openai) (0.12.0)\n",
            "Requirement already satisfied: jsonpatch<2.0.0,>=1.33.0 in /usr/local/lib/python3.12/dist-packages (from langchain-core<2.0.0,>=1.0.0->langchain_openai) (1.33)\n",
            "Requirement already satisfied: langsmith<1.0.0,>=0.3.45 in /usr/local/lib/python3.12/dist-packages (from langchain-core<2.0.0,>=1.0.0->langchain_openai) (0.4.35)\n",
            "Requirement already satisfied: packaging<26.0.0,>=23.2.0 in /usr/local/lib/python3.12/dist-packages (from langchain-core<2.0.0,>=1.0.0->langchain_openai) (25.0)\n",
            "Requirement already satisfied: pydantic<3.0.0,>=2.7.4 in /usr/local/lib/python3.12/dist-packages (from langchain-core<2.0.0,>=1.0.0->langchain_openai) (2.11.10)\n",
            "Requirement already satisfied: pyyaml<7.0.0,>=5.3.0 in /usr/local/lib/python3.12/dist-packages (from langchain-core<2.0.0,>=1.0.0->langchain_openai) (6.0.3)\n",
            "Requirement already satisfied: tenacity!=8.4.0,<10.0.0,>=8.1.0 in /usr/local/lib/python3.12/dist-packages (from langchain-core<2.0.0,>=1.0.0->langchain_openai) (8.5.0)\n",
            "Requirement already satisfied: typing-extensions<5.0.0,>=4.7.0 in /usr/local/lib/python3.12/dist-packages (from langchain-core<2.0.0,>=1.0.0->langchain_openai) (4.15.0)\n",
            "Requirement already satisfied: anyio<5,>=3.5.0 in /usr/local/lib/python3.12/dist-packages (from openai<3.0.0,>=1.109.1->langchain_openai) (4.11.0)\n",
            "Requirement already satisfied: distro<2,>=1.7.0 in /usr/local/lib/python3.12/dist-packages (from openai<3.0.0,>=1.109.1->langchain_openai) (1.9.0)\n",
            "Requirement already satisfied: httpx<1,>=0.23.0 in /usr/local/lib/python3.12/dist-packages (from openai<3.0.0,>=1.109.1->langchain_openai) (0.28.1)\n",
            "Requirement already satisfied: jiter<1,>=0.4.0 in /usr/local/lib/python3.12/dist-packages (from openai<3.0.0,>=1.109.1->langchain_openai) (0.11.0)\n",
            "Requirement already satisfied: sniffio in /usr/local/lib/python3.12/dist-packages (from openai<3.0.0,>=1.109.1->langchain_openai) (1.3.1)\n",
            "Requirement already satisfied: tqdm>4 in /usr/local/lib/python3.12/dist-packages (from openai<3.0.0,>=1.109.1->langchain_openai) (4.67.1)\n",
            "Requirement already satisfied: regex>=2022.1.18 in /usr/local/lib/python3.12/dist-packages (from tiktoken<1.0.0,>=0.7.0->langchain_openai) (2024.11.6)\n",
            "Requirement already satisfied: requests>=2.26.0 in /usr/local/lib/python3.12/dist-packages (from tiktoken<1.0.0,>=0.7.0->langchain_openai) (2.32.4)\n",
            "Requirement already satisfied: idna>=2.8 in /usr/local/lib/python3.12/dist-packages (from anyio<5,>=3.5.0->openai<3.0.0,>=1.109.1->langchain_openai) (3.11)\n",
            "Requirement already satisfied: certifi in /usr/local/lib/python3.12/dist-packages (from httpx<1,>=0.23.0->openai<3.0.0,>=1.109.1->langchain_openai) (2025.10.5)\n",
            "Requirement already satisfied: httpcore==1.* in /usr/local/lib/python3.12/dist-packages (from httpx<1,>=0.23.0->openai<3.0.0,>=1.109.1->langchain_openai) (1.0.9)\n",
            "Requirement already satisfied: h11>=0.16 in /usr/local/lib/python3.12/dist-packages (from httpcore==1.*->httpx<1,>=0.23.0->openai<3.0.0,>=1.109.1->langchain_openai) (0.16.0)\n",
            "Requirement already satisfied: jsonpointer>=1.9 in /usr/local/lib/python3.12/dist-packages (from jsonpatch<2.0.0,>=1.33.0->langchain-core<2.0.0,>=1.0.0->langchain_openai) (3.0.0)\n",
            "Requirement already satisfied: orjson>=3.9.14 in /usr/local/lib/python3.12/dist-packages (from langsmith<1.0.0,>=0.3.45->langchain-core<2.0.0,>=1.0.0->langchain_openai) (3.11.3)\n",
            "Requirement already satisfied: requests-toolbelt>=1.0.0 in /usr/local/lib/python3.12/dist-packages (from langsmith<1.0.0,>=0.3.45->langchain-core<2.0.0,>=1.0.0->langchain_openai) (1.0.0)\n",
            "Requirement already satisfied: zstandard>=0.23.0 in /usr/local/lib/python3.12/dist-packages (from langsmith<1.0.0,>=0.3.45->langchain-core<2.0.0,>=1.0.0->langchain_openai) (0.25.0)\n",
            "Requirement already satisfied: annotated-types>=0.6.0 in /usr/local/lib/python3.12/dist-packages (from pydantic<3.0.0,>=2.7.4->langchain-core<2.0.0,>=1.0.0->langchain_openai) (0.7.0)\n",
            "Requirement already satisfied: pydantic-core==2.33.2 in /usr/local/lib/python3.12/dist-packages (from pydantic<3.0.0,>=2.7.4->langchain-core<2.0.0,>=1.0.0->langchain_openai) (2.33.2)\n",
            "Requirement already satisfied: typing-inspection>=0.4.0 in /usr/local/lib/python3.12/dist-packages (from pydantic<3.0.0,>=2.7.4->langchain-core<2.0.0,>=1.0.0->langchain_openai) (0.4.2)\n",
            "Requirement already satisfied: charset_normalizer<4,>=2 in /usr/local/lib/python3.12/dist-packages (from requests>=2.26.0->tiktoken<1.0.0,>=0.7.0->langchain_openai) (3.4.4)\n",
            "Requirement already satisfied: urllib3<3,>=1.21.1 in /usr/local/lib/python3.12/dist-packages (from requests>=2.26.0->tiktoken<1.0.0,>=0.7.0->langchain_openai) (2.5.0)\n",
            "Downloading langchain_openai-1.0.0-py3-none-any.whl (80 kB)\n",
            "\u001b[2K   \u001b[90m━━━━━━━━━━━━━━━━━━━━━━━━━━━━━━━━━━━━━━━━\u001b[0m \u001b[32m80.5/80.5 kB\u001b[0m \u001b[31m1.8 MB/s\u001b[0m eta \u001b[36m0:00:00\u001b[0m\n",
            "\u001b[?25hDownloading langchain_core-1.0.0-py3-none-any.whl (467 kB)\n",
            "\u001b[2K   \u001b[90m━━━━━━━━━━━━━━━━━━━━━━━━━━━━━━━━━━━━━━━━\u001b[0m \u001b[32m467.2/467.2 kB\u001b[0m \u001b[31m10.7 MB/s\u001b[0m eta \u001b[36m0:00:00\u001b[0m\n",
            "\u001b[?25hInstalling collected packages: langchain-core, langchain_openai\n",
            "  Attempting uninstall: langchain-core\n",
            "    Found existing installation: langchain-core 0.3.79\n",
            "    Uninstalling langchain-core-0.3.79:\n",
            "      Successfully uninstalled langchain-core-0.3.79\n",
            "\u001b[31mERROR: pip's dependency resolver does not currently take into account all the packages that are installed. This behaviour is the source of the following dependency conflicts.\n",
            "langchain 0.3.27 requires langchain-core<1.0.0,>=0.3.72, but you have langchain-core 1.0.0 which is incompatible.\u001b[0m\u001b[31m\n",
            "\u001b[0mSuccessfully installed langchain-core-1.0.0 langchain_openai-1.0.0\n"
          ]
        }
      ],
      "source": [
        "! pip install langchain_openai"
      ]
    },
    {
      "cell_type": "code",
      "execution_count": null,
      "metadata": {
        "colab": {
          "base_uri": "https://localhost:8080/"
        },
        "id": "FI3vPY4HWOUl",
        "outputId": "4305e74f-e2bf-41fb-c03a-08d12be830b0"
      },
      "outputs": [
        {
          "output_type": "stream",
          "name": "stderr",
          "text": [
            "📄 加载文档: 100%|██████████| 29/29 [00:00<00:00, 4445.23it/s]"
          ]
        },
        {
          "output_type": "stream",
          "name": "stdout",
          "text": [
            "✅ 共处理 912 个文档块\n"
          ]
        },
        {
          "output_type": "stream",
          "name": "stderr",
          "text": [
            "\n"
          ]
        }
      ],
      "source": [
        "import os\n",
        "from langchain_core.documents.base import Document as LangchainDocument\n",
        "from langchain_text_splitters import RecursiveCharacterTextSplitter\n",
        "from tqdm import tqdm\n",
        "import json\n",
        "def load_docs(data_dir):\n",
        "    if not os.path.exists(data_dir):\n",
        "        raise FileNotFoundError(f\"❌ 文档文件夹不存在：{data_dir}\")\n",
        "\n",
        "    md_files = []\n",
        "    for root, _, files in os.walk(data_dir):\n",
        "        for f in files:\n",
        "            if f.endswith(\"_notable.md\"):\n",
        "                md_files.append(os.path.join(root, f))\n",
        "\n",
        "    if not md_files:\n",
        "        raise ValueError(f\"❌ 无 md 文件：{data_dir}\")\n",
        "\n",
        "    # 读取文档内容\n",
        "    raw_docs = []\n",
        "    for path in tqdm(md_files, desc=\"📄 加载文档\"):\n",
        "        with open(path, \"r\", encoding=\"utf-8\") as f:\n",
        "            content = f.read()\n",
        "        raw_docs.append(LangchainDocument(\n",
        "            page_content=content,\n",
        "            metadata={\"source\": os.path.basename(path).replace(\"_notable\",\"\").replace(\"_optim\",\"\").replace(\".md\",\"\")}  # 记录文件名作为来源\n",
        "        ))\n",
        "\n",
        "    # 切分文档\n",
        "    text_splitter = RecursiveCharacterTextSplitter(\n",
        "            chunk_size=512,\n",
        "            chunk_overlap=50,\n",
        "            add_start_index=True,\n",
        "            strip_whitespace=True,\n",
        "            separators=[\"#\",\"![]\",\"\\n\\n\", \"\\n\",\".\", \" \", \"\"],\n",
        "        )\n",
        "    doc_processed = []\n",
        "    for doc in raw_docs:\n",
        "        doc_processed += text_splitter.split_documents([doc])\n",
        "\n",
        "    print(f\"✅ 共处理 {len(doc_processed)} 个文档块\")\n",
        "    return doc_processed\n",
        "\n",
        "\n",
        "doc_processed=load_docs(\"/content/final_docs\")"
      ]
    },
    {
      "cell_type": "code",
      "execution_count": null,
      "metadata": {
        "colab": {
          "base_uri": "https://localhost:8080/"
        },
        "id": "vbfu8mcacvrN",
        "outputId": "b1dea38d-4f51-4d17-e989-bc6c68c5c985"
      },
      "outputs": [
        {
          "output_type": "execute_result",
          "data": {
            "text/plain": [
              "Document(metadata={'source': '职称申报规范国网人才〔2025〕11号.pdf', 'start_index': 0}, page_content='普通事项\\n\\n# 国网人才交流服务中心有限公司文件\\n\\n国网人才［2025］11号\\n\\n# 职称申报规范\\n\\n（2025年5月修订）\\n\\n各有关单位：\\n\\n为准确把握各专业系列职称评定标准，正确履行职称评定工作程序，依据《国家电网有限公司职称评定管理办法》，国网人才交流服务中心有限公司（以下简称“国网人才中心”）对职称申报规范明确如下。\\n\\n# 一、基本规定\\n\\n# （一）时间规定\\n\\n计算现有职称取得年限、业绩成果取得时间或从事专业技术工作年限的截止时间，均为职称申报年度的12月31日。')"
            ]
          },
          "metadata": {},
          "execution_count": 3
        }
      ],
      "source": [
        "doc_processed[0]"
      ]
    },
    {
      "cell_type": "code",
      "execution_count": null,
      "metadata": {
        "colab": {
          "base_uri": "https://localhost:8080/"
        },
        "id": "oIw0qIrmdzcl",
        "outputId": "7314e814-3769-4c0e-9633-8047524e075c"
      },
      "outputs": [
        {
          "output_type": "stream",
          "name": "stdout",
          "text": [
            "转换完成，文件已保存至 output.jsonl\n"
          ]
        }
      ],
      "source": [
        "\n",
        "\n",
        "def documents_to_jsonl(documents, output_path):\n",
        "    \"\"\"\n",
        "    将Document对象列表转换为JSON Lines文件\n",
        "\n",
        "    参数:\n",
        "        documents: Document对象的列表，每个对象包含metadata和page_content\n",
        "        output_path: 输出的.jsonl文件路径（如\"output.jsonl\"）\n",
        "    \"\"\"\n",
        "    with open(output_path, \"w\", encoding=\"utf-8\") as f:\n",
        "        for doc in documents:\n",
        "            # 提取Document中的关键信息，构建JSON对象\n",
        "            json_obj = {\n",
        "                # 合并metadata中的键值对（如source、start_index）\n",
        "                **doc.metadata,\n",
        "                # 添加page_content字段\n",
        "                \"context\": doc.page_content\n",
        "            }\n",
        "            # 将JSON对象转为字符串，写入文件（每行一个）\n",
        "            # ensure_ascii=False：保留中文等非ASCII字符\n",
        "            f.write(json.dumps(json_obj, ensure_ascii=False) + \"\\n\")\n",
        "\n",
        "\n",
        "documents_to_jsonl(doc_processed, \"output.jsonl\")\n",
        "print(\"转换完成，文件已保存至 output.jsonl\")\n",
        "\n"
      ]
    },
    {
      "cell_type": "code",
      "execution_count": null,
      "metadata": {
        "colab": {
          "base_uri": "https://localhost:8080/",
          "height": 49,
          "referenced_widgets": [
            "72df92b390194f47a8632ecee8a0fca8",
            "b6985f33e9714d11b114983970d3aa86",
            "ba1d1a5d46df450b8795fd84cbe11a38",
            "ce8d6f14152441b0becf21e35f1463f8",
            "66a1474c299e491781f54d2e7c2d8fb2",
            "b7f3492ca109438e9bb20dac0f6d3229",
            "c57d80b1af074c8bb0c3cd31f3de6b56",
            "37d80d46679542818031f120edb0fa4b",
            "071178d743094d409028b694b93d6cd0",
            "072086f780064a35952290e39eb506c8",
            "bc52c5f2d92947648a8009cc0ff81d63"
          ]
        },
        "id": "x07k7OFDeQil",
        "outputId": "4c03033a-f1ac-4c8d-8fe3-9d3b74fe52e9"
      },
      "outputs": [
        {
          "output_type": "display_data",
          "data": {
            "text/plain": [
              "Generating train split: 0 examples [00:00, ? examples/s]"
            ],
            "application/vnd.jupyter.widget-view+json": {
              "version_major": 2,
              "version_minor": 0,
              "model_id": "72df92b390194f47a8632ecee8a0fca8"
            }
          },
          "metadata": {}
        }
      ],
      "source": [
        "# 将数据转换为huggingface dataset\n",
        "from datasets import load_dataset\n",
        "\n",
        "dataset = load_dataset(\"json\", data_files=\"/content/output.jsonl\")\n"
      ]
    },
    {
      "cell_type": "code",
      "execution_count": null,
      "metadata": {
        "colab": {
          "base_uri": "https://localhost:8080/"
        },
        "id": "sry2efhveobN",
        "outputId": "b6be9f41-676c-449d-f3eb-10969884edfd"
      },
      "outputs": [
        {
          "output_type": "execute_result",
          "data": {
            "text/plain": [
              "{'source': '职称申报规范国网人才〔2025〕11号.pdf',\n",
              " 'start_index': 0,\n",
              " 'context': '普通事项\\n\\n# 国网人才交流服务中心有限公司文件\\n\\n国网人才［2025］11号\\n\\n# 职称申报规范\\n\\n（2025年5月修订）\\n\\n各有关单位：\\n\\n为准确把握各专业系列职称评定标准，正确履行职称评定工作程序，依据《国家电网有限公司职称评定管理办法》，国网人才交流服务中心有限公司（以下简称“国网人才中心”）对职称申报规范明确如下。\\n\\n# 一、基本规定\\n\\n# （一）时间规定\\n\\n计算现有职称取得年限、业绩成果取得时间或从事专业技术工作年限的截止时间，均为职称申报年度的12月31日。'}"
            ]
          },
          "metadata": {},
          "execution_count": 6
        }
      ],
      "source": [
        "dataset[\"train\"][0]"
      ]
    },
    {
      "cell_type": "code",
      "execution_count": null,
      "metadata": {
        "id": "H8-HMN_2mUL9",
        "colab": {
          "base_uri": "https://localhost:8080/"
        },
        "outputId": "91c6d211-5964-440b-f534-e51d077696eb"
      },
      "outputs": [
        {
          "output_type": "stream",
          "name": "stdout",
          "text": [
            "生成 912 组QA数据（并发数：5）...\n"
          ]
        },
        {
          "output_type": "stream",
          "name": "stderr",
          "text": [
            "生成QA中:  95%|█████████▌| 870/912 [05:09<00:28,  1.47it/s]"
          ]
        },
        {
          "output_type": "stream",
          "name": "stdout",
          "text": [
            "处理文档失败：Error code: 429 - {'message': 'Request was rejected due to rate limiting. Details: TPM limit reached.', 'data': None}\n"
          ]
        },
        {
          "output_type": "stream",
          "name": "stderr",
          "text": [
            "\r生成QA中:  96%|█████████▌| 872/912 [05:09<00:17,  2.28it/s]"
          ]
        },
        {
          "output_type": "stream",
          "name": "stdout",
          "text": [
            "处理文档失败：Error code: 429 - {'message': 'Request was rejected due to rate limiting. Details: TPM limit reached.', 'data': None}\n"
          ]
        },
        {
          "output_type": "stream",
          "name": "stderr",
          "text": [
            "生成QA中:  98%|█████████▊| 892/912 [05:23<00:16,  1.22it/s]"
          ]
        },
        {
          "output_type": "stream",
          "name": "stdout",
          "text": [
            "处理文档失败：Error code: 429 - {'message': 'Request was rejected due to rate limiting. Details: TPM limit reached.', 'data': None}\n"
          ]
        },
        {
          "output_type": "stream",
          "name": "stderr",
          "text": [
            "\r生成QA中:  98%|█████████▊| 893/912 [05:23<00:13,  1.46it/s]"
          ]
        },
        {
          "output_type": "stream",
          "name": "stdout",
          "text": [
            "处理文档失败：Error code: 429 - {'message': 'Request was rejected due to rate limiting. Details: TPM limit reached.', 'data': None}处理文档失败：Error code: 429 - {'message': 'Request was rejected due to rate limiting. Details: TPM limit reached.', 'data': None}\n",
            "\n"
          ]
        },
        {
          "output_type": "stream",
          "name": "stderr",
          "text": [
            "生成QA中: 100%|██████████| 912/912 [05:35<00:00,  2.72it/s]"
          ]
        },
        {
          "output_type": "stream",
          "name": "stdout",
          "text": [
            "处理完成，有效QA数据：907/912\n"
          ]
        },
        {
          "output_type": "stream",
          "name": "stderr",
          "text": [
            "\n"
          ]
        }
      ],
      "source": [
        "import random\n",
        "import time\n",
        "from typing import List\n",
        "from tqdm import tqdm\n",
        "from concurrent.futures import ThreadPoolExecutor, as_completed\n",
        "from langchain_openai import ChatOpenAI\n",
        "from langchain_core.documents import Document  # 假设LangchainDocument是Document的别名\n",
        "\n",
        "# 从环境变量获取API密钥\n",
        "from google.colab import userdata\n",
        "api_key = userdata.get('siliconflow')\n",
        "\n",
        "# 初始化LLM客户端（ChatOpenAI支持多线程调用，线程安全）\n",
        "llm_client = ChatOpenAI(\n",
        "    base_url=\"https://api.siliconflow.cn/v1\",\n",
        "    model=\"Qwen/Qwen2.5-14B-Instruct\",\n",
        "    api_key=api_key,\n",
        "    temperature=0.2\n",
        ")\n",
        "\n",
        "# QA生成提示词（保持不变）\n",
        "QA_generation_prompt = \"\"\"\n",
        "你的任务是根据一段上下文，撰写一个事实型问题和对应的答案。\n",
        "你所撰写的事实型问题，需能通过从上下文中提取一条具体、简洁的事实信息来回答。\n",
        "该事实型问题的格式需与用户在搜索引擎中提问的风格一致——这意味着，你的事实型问题**不得提及**“根据这段文字”“上下文”这类表述。\n",
        "\n",
        "常问问题的风格示例：\n",
        "- 工会的主要职责有哪些？\n",
        "- 国家电网有限公司劳模先进评选表彰管理办法的评选标准是什么\n",
        "- 工伤认定的程序是怎样的？\n",
        "- 工伤认定申请需要哪些具体材料\n",
        "- 用人单位未及时申请工伤认定时，责任由谁承担？\n",
        "\n",
        "请按以下格式提供答案：\n",
        "\n",
        "Output:::\n",
        "Factoid question:（你撰写的事实型问题）\n",
        "Answer:（你针对该事实型问题给出的答案）\n",
        "\n",
        "以下是上下文。\n",
        "\n",
        "Context: {context}\\n\n",
        "Output:::\"\"\"\n",
        "\n",
        "\n",
        "def call_llm(llm_client, prompt: str):\n",
        "    \"\"\"同步调用LLM，返回响应内容（保持不变）\"\"\"\n",
        "    response = llm_client.invoke(prompt)\n",
        "    return response.content\n",
        "\n",
        "\n",
        "def process_single_doc(llm_client, doc: Document):\n",
        "    \"\"\"处理单个文档：生成QA并解析结果（供线程池调用的任务函数）\"\"\"\n",
        "    try:\n",
        "        # 生成prompt并调用LLM\n",
        "        prompt = QA_generation_prompt.format(context=doc.page_content)\n",
        "        output_QA_couple = call_llm(llm_client, prompt)\n",
        "\n",
        "        # 解析问题和答案\n",
        "        question = output_QA_couple.split(\"Factoid question: \")[-1].split(\"Answer: \")[0].strip()\n",
        "        answer = output_QA_couple.split(\"Answer: \")[-1].strip()\n",
        "\n",
        "        # 过滤过长的答案\n",
        "        if len(answer) >= 500:\n",
        "            return None\n",
        "\n",
        "        # 返回处理结果\n",
        "        return {\n",
        "            \"context\": doc.page_content,\n",
        "            \"question\": question,\n",
        "            \"answer\": answer,\n",
        "            \"source_doc\": doc.metadata.get(\"source\", \"unknown\")\n",
        "        }\n",
        "    except Exception as e:\n",
        "        # 捕获解析或调用异常，返回None（不中断其他任务）\n",
        "        print(f\"处理文档失败：{str(e)}\")\n",
        "        return None\n",
        "\n",
        "\n",
        "def generate_qa_dataset(llm_client, docs_processed: List[Document], max_workers: int = 5):\n",
        "    \"\"\"多线程生成QA数据集\"\"\"\n",
        "    # 采样文档（保持原有逻辑）\n",
        "    N_GENERATIONS = len(docs_processed)\n",
        "    sampled_docs = random.sample(docs_processed, N_GENERATIONS)\n",
        "    print(f\"生成 {N_GENERATIONS} 组QA数据（并发数：{max_workers}）...\")\n",
        "\n",
        "    outputs = []\n",
        "    # 创建线程池，max_workers控制并发数（根据API限流调整）\n",
        "    with ThreadPoolExecutor(max_workers=max_workers) as executor:\n",
        "        # 提交所有任务到线程池，获取future对象（跟踪任务状态）\n",
        "        futures = {executor.submit(process_single_doc, llm_client, doc): doc for doc in sampled_docs}\n",
        "\n",
        "        # 遍历完成的任务，收集结果（用tqdm显示进度）\n",
        "        for future in tqdm(as_completed(futures), total=len(futures), desc=\"生成QA中\"):\n",
        "            result = future.result()\n",
        "            if result is not None:  # 只保留成功解析的结果\n",
        "                outputs.append(result)\n",
        "\n",
        "    print(f\"处理完成，有效QA数据：{len(outputs)}/{N_GENERATIONS}\")\n",
        "    return outputs\n",
        "\n",
        "\n",
        "# 调用示例（假设doc_processed是Document对象列表）\n",
        "QA_dataset = generate_qa_dataset(llm_client, doc_processed, max_workers=5)  # 并发数设为5（可根据API限制调整）\n"
      ]
    },
    {
      "cell_type": "code",
      "source": [
        "QA_dataset[0]"
      ],
      "metadata": {
        "colab": {
          "base_uri": "https://localhost:8080/"
        },
        "id": "6kqEO8_1aOa5",
        "outputId": "e3a6f1ce-c473-4d93-f514-adb81130c0e0"
      },
      "execution_count": null,
      "outputs": [
        {
          "output_type": "execute_result",
          "data": {
            "text/plain": [
              "{'context': '综上所述，表格主要展示了不同岗位的数量以及它们之间的关系和特殊需求。\\n\\n根据提供的表格信息，我们可以看到不同级别的职员（从七级到八级）以及他们对应的某些编号或标识符。例如：\\n\\n- 七级职员有12个条目，并且其编号范围包括35至24。\\n- 八级职员有两个条目（可能是重复输入），并且其编号范围包括31至20。\\n\\n表格中还包含了一些未具体定义的“一”和空白单元格，这可能表示某些特定条件或状态，但没有足够的信息来确定它们的确切含义。此外，“L”字符出现在表格中，但它的意义也不明确。\\n\\n由于表格中的数据较为零散且部分信息缺失（如第一列和第二列的内容），很难给出一个全面的解读。不过，从现有信息可以推测这可能是一个关于职员等级及其对应编号或标识符的记录表。',\n",
              " 'question': '七级职员的编号范围是多少？',\n",
              " 'answer': '七级职员的编号范围是35至24。',\n",
              " 'source_doc': '陕电人资〔2023〕76号\\u3000国网陕西省电力有限公司关于印发《国网陕西省电力有限公司“宽带岗级”岗位绩效工资实施细则》的通知.pdf'}"
            ]
          },
          "metadata": {},
          "execution_count": 8
        }
      ]
    },
    {
      "cell_type": "code",
      "execution_count": null,
      "metadata": {
        "id": "OMxNP26qoTOl",
        "colab": {
          "base_uri": "https://localhost:8080/"
        },
        "outputId": "ca309796-0421-465b-b1f4-bc9a20961447"
      },
      "outputs": [
        {
          "output_type": "stream",
          "name": "stdout",
          "text": [
            "对 907 个QA对进行评估（并发数：5）...\n"
          ]
        },
        {
          "output_type": "stream",
          "name": "stderr",
          "text": [
            "评估QA中: 100%|██████████| 907/907 [22:10<00:00,  1.47s/it]"
          ]
        },
        {
          "output_type": "stream",
          "name": "stdout",
          "text": [
            "评估完成，共处理 907 个QA对\n"
          ]
        },
        {
          "output_type": "stream",
          "name": "stderr",
          "text": [
            "\n"
          ]
        }
      ],
      "source": [
        "#过滤掉一部分qa\n",
        "from typing import Dict\n",
        "from concurrent.futures import ThreadPoolExecutor, as_completed\n",
        "\n",
        "question_groundedness_critique_prompt = \"\"\"\n",
        "你将获得一段上下文和一个问题。\n",
        "你的任务是给出一个「总体评分」，用于评估利用给定上下文能否清晰、无歧义地回答该问题的程度。\n",
        "评分范围为1到5分：1分表示根据给定上下文完全无法回答该问题，5分表示利用给定上下文能清晰、无歧义地回答该问题。\n",
        "\n",
        "请按以下格式提供答案：\n",
        "\n",
        "Answer:::\n",
        "Evaluation:（说明给出该评分的理由，以文本形式呈现）\n",
        "Total rating:（你的评分，为1到5之间的数字）\n",
        "\n",
        "你的答案中必须包含 'Evaluation:'和 'Total rating:' 对应的内容。\n",
        "\n",
        "以下是待评估的问题和上下文。\n",
        "\n",
        "问题：{question}\\n\n",
        "上下文：{context}\\n\n",
        "Answer::: \"\"\"\n",
        "\n",
        "\n",
        "\n",
        "question_relevance_critique_prompt = \"\"\"\n",
        "你将获得一个问题。\n",
        "你的任务是给出一个「总体评分」，用于评估该问题对国网公司内部员工了解工会相关规章制度的有用程度。\n",
        "评分范围为1到5分：1分表示该问题完全没有用处，5分表示该问题极其有用。\n",
        "\n",
        "请按以下格式提供答案：\n",
        "\n",
        "Answer:::\n",
        "Evaluation:（说明给出该评分的理由，以文本形式呈现）\n",
        "Total rating:（你的评分，为1到5之间的数字）\n",
        "\n",
        "你的答案中必须包含 'Evaluation:'和 'Total rating:' 对应的内容。\n",
        "\n",
        "以下是待评估的问题。\n",
        "\n",
        "问题：{question}\\n\n",
        "Answer::: \"\"\"\n",
        "\n",
        "\n",
        "\n",
        "question_standalone_critique_prompt = \"\"\"\n",
        "你将获得一个问题。\n",
        "你的任务是给出一个「总体评分」，用于评估该问题的「独立于上下文」程度。\n",
        "评分范围为1到5分：1分表示该问题需要依赖额外信息才能被理解，5分表示该问题自身含义明确（无需额外信息即可理解）。\n",
        "\n",
        "例如，若问题中提及特定场景（如“在该上下文中”或“在该文档中”），则评分必须为1分。\n",
        "问题中可包含生僻的技术名词或缩写（如Gradio、Hub、Hugging Face、Space），但仍可评为5分——只要拥有文档查阅权限的操作者能明确该问题所指内容即可。\n",
        "\n",
        "\n",
        "请按以下格式提供答案：\n",
        "\n",
        "Answer:::\n",
        "Evaluation:（说明给出该评分的理由，以文本形式呈现）\n",
        "Total rating:（你的评分，为1到5之间的数字）\n",
        "\n",
        "你的答案中必须包含 'Evaluation:'和 'Total rating:' 对应的内容。\n",
        "\n",
        "以下是待评估的问题。\n",
        "\n",
        "问题：{question}\\n\n",
        "Answer::: \"\"\"\n",
        "\n",
        "critic_llm_client = ChatOpenAI(\n",
        "    base_url=\"https://api.siliconflow.cn/v1\",\n",
        "    model=\"Qwen/Qwen2.5-32B-Instruct\",\n",
        "    api_key=api_key,\n",
        "    temperature=0.2\n",
        ")\n",
        "\n",
        "def process_single_qa(llm_client, output: Dict) -> Dict:\n",
        "    \"\"\"处理单个QA对的评估：生成三项指标并解析结果（供线程池调用）\"\"\"\n",
        "    try:\n",
        "        # 并行调用三次LLM（单个QA对的三项评估）\n",
        "        evaluations = {\n",
        "            \"groundedness\": call_llm(\n",
        "                llm_client,\n",
        "                question_groundedness_critique_prompt.format(\n",
        "                    context=output[\"context\"],\n",
        "                    question=output[\"question\"]\n",
        "                ),\n",
        "            ),\n",
        "            \"relevance\": call_llm(\n",
        "                llm_client,\n",
        "                question_relevance_critique_prompt.format(\n",
        "                    question=output[\"question\"]\n",
        "                ),\n",
        "            ),\n",
        "            \"standalone\": call_llm(\n",
        "                llm_client,\n",
        "                question_standalone_critique_prompt.format(\n",
        "                    question=output[\"question\"]\n",
        "                ),\n",
        "            ),\n",
        "        }\n",
        "\n",
        "        # 解析评估结果并更新到output\n",
        "        for criterion, evaluation in evaluations.items():\n",
        "            # Extract the numerical score by finding the last digit(s)\n",
        "            try:\n",
        "                score_str = evaluation.split(\"Total rating: \")[-1].strip()\n",
        "                score = int(''.join(filter(str.isdigit, score_str)))\n",
        "            except ValueError:\n",
        "                score = 1 # Default to 1 if parsing fails\n",
        "\n",
        "            eval_text = evaluation.split(\"Total rating: \")[-2].split(\"Evaluation: \")[1].strip() # Keep the evaluation text\n",
        "\n",
        "            # Update output fields\n",
        "            output[f\"{criterion}_score\"] = score\n",
        "            output[f\"{criterion}_eval\"] = eval_text\n",
        "\n",
        "        return output  # 返回更新后的QA对\n",
        "\n",
        "    except Exception as e:\n",
        "        # 捕获解析或调用异常，返回原output（不中断其他任务）\n",
        "        print(f\"处理文档失败：{str(e)}\") # Changed error message to be more accurate\n",
        "        return output\n",
        "\n",
        "\n",
        "def critic_qa(\n",
        "    llm_client,\n",
        "    qa_list: List[Dict],\n",
        "    max_workers: int = 5  # 并发数，根据API限流调整\n",
        ") -> List[Dict]:\n",
        "    \"\"\"多线程评估QA列表中的每个QA对\"\"\"\n",
        "    print(f\"对 {len(qa_list)} 个QA对进行评估（并发数：{max_workers}）...\")\n",
        "\n",
        "    # 用于存储最终结果（保持原列表顺序）\n",
        "    results = [None] * len(qa_list)\n",
        "\n",
        "    # Create a list of tasks to submit\n",
        "    tasks = [(llm_client, qa) for qa in qa_list]\n",
        "\n",
        "    # Create a dictionary to map futures back to their original index\n",
        "    future_to_index = {}\n",
        "\n",
        "    # 创建线程池，提交所有QA评估任务\n",
        "    with ThreadPoolExecutor(max_workers=max_workers) as executor:\n",
        "        # Submit tasks and store the future with its original index\n",
        "        for idx, (llm_client_arg, qa_arg) in enumerate(tasks):\n",
        "            future = executor.submit(process_single_qa, llm_client_arg, qa_arg)\n",
        "            future_to_index[future] = idx\n",
        "\n",
        "        # Iterate through completed tasks and store results in the correct order\n",
        "        for future in tqdm(as_completed(future_to_index), total=len(future_to_index), desc=\"评估QA中\"):\n",
        "            idx = future_to_index[future]\n",
        "            try:\n",
        "                result = future.result()\n",
        "                results[idx] = result\n",
        "            except Exception as exc:\n",
        "                print(f'Generated an exception: {exc}') # Print exception for debugging\n",
        "                results[idx] = None # Store None for failed tasks\n",
        "\n",
        "    print(f\"评估完成，共处理 {len(results)} 个QA对\")\n",
        "    return results\n",
        "\n",
        "\n",
        "# 调用示例（假设doc_processed是Document对象列表）\n",
        "results = critic_qa(critic_llm_client,QA_dataset)"
      ]
    },
    {
      "cell_type": "code",
      "source": [
        "results[200]"
      ],
      "metadata": {
        "colab": {
          "base_uri": "https://localhost:8080/"
        },
        "id": "QkRG6_r-hsRp",
        "outputId": "97a2cb63-a5fd-4e22-8cac-db136c22dc96"
      },
      "execution_count": null,
      "outputs": [
        {
          "output_type": "execute_result",
          "data": {
            "text/plain": [
              "{'context': '# 第五章专业与能力考试\\n\\n第二十四条参考人选的确定。加权总积分达标者方可进入专业与能力考试阶段。根据各系列中级《评定标准》和《业绩积分标准》，对申报人员申报材料进行审查、鉴定、评价、复审、公示后，加权总积分达标者，进入专业与能力考试阶段。\\n\\n第二十五条专业与能力考试内容。专业与能力考试内容将依据相应系列《评定标准》中“专业理论水平要求”和“工作经历和能力要求”且通过业绩积分不好界定的、且必须掌握的综合知识与综合能力等原则进行确定；按知识类和能力类2部分且各占一定比重设计考卷。知识类主要考查与申报专业相关的通用基础理论知识、专业知识，以及电力与能源战略、企业文化、相关管理规章制度等；能力类主要考查从事相应专业技术工作所应具备的综合能力。\\n\\n第二十六条考试时间与考题类型。专业与能力考试时间为150分钟。参考人员在考前自行打印准考证。参加考试时必须携带本人身份证和准考证到指定考场参加考试。考题类型全部为客观题，由单选、多选和判断等题型组成，满分100分。',\n",
              " 'question': '专业与能力考试的时间是多少？',\n",
              " 'answer': '专业与能力考试的时间为150分钟。',\n",
              " 'source_doc': '职称申报规范国网人才〔2025〕11号.pdf',\n",
              " 'groundedness_score': 5,\n",
              " 'groundedness_eval': '上文第二十六条明确指出了专业与能力考试的时间为150分钟，这直接回答了问题中关于考试时间的具体询问。因此，根据给定的上下文，可以清晰、无歧义地回答问题。',\n",
              " 'relevance_score': 2,\n",
              " 'relevance_eval': '该问题询问的是专业与能力考试的时间，这与了解工会相关规章制度的直接关联性较低。工会相关规章制度通常涉及员工权益保护、福利政策、活动组织等方面的内容，而专业与能力考试的时间安排更可能属于人力资源部门的培训与发展范畴。因此，这个问题对于国网公司内部员工了解工会相关规章制度的有用程度较低。',\n",
              " 'standalone_score': 2,\n",
              " 'standalone_eval': '该问题询问的是“专业与能力考试”的时间长度，但没有提供具体的考试名称或上下文信息，这使得问题的含义不够明确。不同的考试可能有不同的时长，因此，除非对特定的考试有预先了解，否则仅凭问题本身无法确定具体的时间。因此，该问题需要依赖额外的信息来被完全理解。'}"
            ]
          },
          "metadata": {},
          "execution_count": 16
        }
      ]
    },
    {
      "cell_type": "code",
      "source": [
        "import json\n",
        "\n",
        "def results_to_jsonl(results, output_path):\n",
        "    \"\"\"\n",
        "    将results列表（元素为字典）转换为JSON Lines格式文件\n",
        "    :param results: 输入的结果列表（如包含200个QA条目的列表）\n",
        "    :param output_path: 输出的.jsonl文件路径（如\"results.jsonl\"）\n",
        "    \"\"\"\n",
        "    with open(output_path, \"w\", encoding=\"utf-8\") as f:\n",
        "        for item in results:\n",
        "            # 将每个字典转为JSON字符串，确保中文不转义\n",
        "            json_str = json.dumps(item, ensure_ascii=False)\n",
        "            # 每行写入一个JSON对象\n",
        "            f.write(json_str + \"\\n\")\n",
        "\n",
        "# 调用示例（假设results是你的数据列表）\n",
        "results_to_jsonl(results, \"full_dataset.jsonl\")\n",
        "print(\"转换完成，文件已保存为 full_dataset.jsonl\")"
      ],
      "metadata": {
        "colab": {
          "base_uri": "https://localhost:8080/"
        },
        "id": "iy3QhfgUk6Dx",
        "outputId": "1160b50d-acdc-4d95-8056-1db54e02dd06"
      },
      "execution_count": null,
      "outputs": [
        {
          "output_type": "stream",
          "name": "stdout",
          "text": [
            "转换完成，文件已保存为 full_dataset.jsonl\n"
          ]
        }
      ]
    },
    {
      "cell_type": "code",
      "source": [
        "# 统计 relevance_score > 2 的数量\n",
        "count = 0\n",
        "for item in results:\n",
        "    # 安全获取 relevance_score（若不存在则默认0）\n",
        "    score = item.get(\"relevance_score\", 0)\n",
        "    standalone_score = item.get('standalone_score',0)\n",
        "\n",
        "    if score >=2 and standalone_score>=3:\n",
        "        count += 1\n",
        "\n",
        "print(f\"relevance_score 大于2的数量为: {count}\")"
      ],
      "metadata": {
        "colab": {
          "base_uri": "https://localhost:8080/"
        },
        "id": "odoKstO2ifFa",
        "outputId": "9f1390df-cee3-407a-cc47-8104efb9a27a"
      },
      "execution_count": null,
      "outputs": [
        {
          "output_type": "stream",
          "name": "stdout",
          "text": [
            "relevance_score 大于2的数量为: 652\n"
          ]
        }
      ]
    },
    {
      "cell_type": "code",
      "source": [
        "#过滤数据集\n",
        "import pandas as pd\n",
        "def filter_qa(generated_questions):\n",
        "    print(\"Filtering QA couples...\")\n",
        "    generated_questions = pd.DataFrame(generated_questions)\n",
        "    generated_questions = generated_questions.loc[\n",
        "    (generated_questions[\"groundedness_score\"] >= 4)\n",
        "    & (generated_questions[\"relevance_score\"] >= 2)\n",
        "    & (generated_questions[\"standalone_score\"] >= 3)\n",
        "]\n",
        "\n",
        "    return generated_questions\n",
        "\n",
        "final_datasets = filter_qa(results)"
      ],
      "metadata": {
        "colab": {
          "base_uri": "https://localhost:8080/"
        },
        "id": "WLYL1enYjBYp",
        "outputId": "7e4cb0bb-aa09-4113-c899-8a9f11f588f7"
      },
      "execution_count": null,
      "outputs": [
        {
          "output_type": "stream",
          "name": "stdout",
          "text": [
            "Filtering QA couples...\n"
          ]
        }
      ]
    },
    {
      "cell_type": "code",
      "source": [
        "print(len(final_datasets))"
      ],
      "metadata": {
        "colab": {
          "base_uri": "https://localhost:8080/"
        },
        "id": "-vG9jplZjc8B",
        "outputId": "959c067d-3218-4b1d-a9dc-f4f0b7509b32"
      },
      "execution_count": null,
      "outputs": [
        {
          "output_type": "stream",
          "name": "stdout",
          "text": [
            "572\n"
          ]
        }
      ]
    },
    {
      "cell_type": "code",
      "source": [
        "final_datasets.head()"
      ],
      "metadata": {
        "colab": {
          "base_uri": "https://localhost:8080/",
          "height": 293
        },
        "id": "aZbHEQKijg5B",
        "outputId": "320f6b03-bdb4-4391-afbe-7c90b5915da9"
      },
      "execution_count": null,
      "outputs": [
        {
          "output_type": "execute_result",
          "data": {
            "text/plain": [
              "                                             context  \\\n",
              "1  # （二）其他直属单位兼职培训员数量要求\\n\\n1.各单位市公司、下属分公司的每个部门各不少...   \n",
              "2  # 第五章 正高级职称评定标准\\n\\n# 第十三条 基本要求\\n\\n（一）取得相应学历、学位...   \n",
              "3  # 1、个人所得税政策\\n\\n个人所得税以所得人为纳税人，以支付所得单位或者个人为扣缴义务人...   \n",
              "4  # 《国家电网有限公司安全教育培训工作规定》\\n\\n国网（安监/4）984-2019\\n\\n...   \n",
              "8  # 13.1一般注意事项\\n\\n13.1.1任何人进入生产现场（办公室、控制室、值班室和检修...   \n",
              "\n",
              "                                         question  \\\n",
              "1                  各单位市公司、下属分公司的每个部门至少需要多少名兼职培训员？   \n",
              "2                                正高级职称评定的基本要求有哪些？   \n",
              "3  当全年的应纳税所得额超过660000元但不超过960000元时，个人所得税的适用税率是多少？   \n",
              "4                           新入职人员的安全教育培训内容包括哪些方面？   \n",
              "8                           在检修期间需将栏杆拆除时，应采取什么措施？   \n",
              "\n",
              "                                              answer  \\\n",
              "1                      各单位市公司、下属分公司的每个部门至少需要1名兼职培训员。   \n",
              "2   取得相应学历、学位证书；取得主任记者或主任编辑职称证书，并满足相应专业工作年限；取得新闻记者证。   \n",
              "3    当全年的应纳税所得额超过660000元但不超过960000元时，个人所得税的适用税率是35%。   \n",
              "4  新入职人员的安全教育培训内容主要包括：本单位安全生产情况；安全基本知识；安全生产规章制度、安...   \n",
              "8                            应装设临时遮栏，并在检修结束时将栏杆立即装回。   \n",
              "\n",
              "                                      source_doc  groundedness_score  \\\n",
              "1                                     培训相关要求.pdf                   5   \n",
              "2                        职称申报规范国网人才〔2025〕11号.pdf                   5   \n",
              "3  办公室（党委办公室）_岗位绩效工资管理实施方案及薪酬相关政策解读_20230716.pdf                   5   \n",
              "4                               员工规章制度应知应会手册.pdf                   5   \n",
              "8                          电力安全工作规程_安全规程电缆部分.pdf                   5   \n",
              "\n",
              "                                   groundedness_eval  relevance_score  \\\n",
              "1  上文明确指出“各单位市公司、下属分公司的每个部门各不少于1人（1-2人）”，这直接回答了问题...                3   \n",
              "2  上文提供了正高级职称评定的基本要求，包括学历学位证书、主任记者或主任编辑职称证书及相应的工作...                3   \n",
              "3  根据给定的上下文，可以清晰、无歧义地找到当全年的应纳税所得额超过660000元但不超过960...                2   \n",
              "4  上文详细列出了新入职人员安全教育培训的内容，包括安全生产情况、安全基本知识、安全生产规章制度...                2   \n",
              "8  根据给定的上下文，可以清晰地了解到在检修期间需将栏杆拆除时，应采取的措施是装设临时遮栏，并在...                2   \n",
              "\n",
              "                                      relevance_eval  standalone_score  \\\n",
              "1  该问题涉及国网公司内部的人员配置情况，特别是关于兼职培训员的数量要求，这与工会相关规章制度有...                 4   \n",
              "2  此问题关于正高级职称评定的基本要求，对于国网公司内部员工来说，了解职称评定的相关规定有助于他...                 4   \n",
              "3  该问题主要涉及个人所得税的税率计算，与国网公司内部员工了解工会相关规章制度的直接关联性较低。...                 5   \n",
              "4  该问题主要关注的是新入职人员的安全教育培训内容，这与工会相关规章制度的直接关联性较低。工会规...                 4   \n",
              "8  该问题主要涉及的是安全措施和操作规程，而不是直接与工会相关规章制度有关。虽然了解此类信息对于...                 4   \n",
              "\n",
              "                                     standalone_eval  \n",
              "1  该问题虽然指定了具体的组织结构（各单位市公司、下属分公司、每个部门），但并未提及特定的上下文...  \n",
              "2  该问题询问的是正高级职称评定的基本要求，虽然涉及到特定的职业评定领域，但问题本身已经提供了足...  \n",
              "3  该问题明确提出了一个具体的税务计算场景，即当个人的应纳税所得额落在660000元至96000...  \n",
              "4  该问题询问的是新入职人员的安全教育培训内容，虽然它涉及特定的职业培训场景，但并不依赖于具体的...  \n",
              "8  该问题描述了一个具体的场景，即“在检修期间需将栏杆拆除时”，并询问在这种情况下应采取什么措施...  "
            ],
            "text/html": [
              "\n",
              "  <div id=\"df-ff3c29c0-b73c-4ccb-8791-9b8ed74d1225\" class=\"colab-df-container\">\n",
              "    <div>\n",
              "<style scoped>\n",
              "    .dataframe tbody tr th:only-of-type {\n",
              "        vertical-align: middle;\n",
              "    }\n",
              "\n",
              "    .dataframe tbody tr th {\n",
              "        vertical-align: top;\n",
              "    }\n",
              "\n",
              "    .dataframe thead th {\n",
              "        text-align: right;\n",
              "    }\n",
              "</style>\n",
              "<table border=\"1\" class=\"dataframe\">\n",
              "  <thead>\n",
              "    <tr style=\"text-align: right;\">\n",
              "      <th></th>\n",
              "      <th>context</th>\n",
              "      <th>question</th>\n",
              "      <th>answer</th>\n",
              "      <th>source_doc</th>\n",
              "      <th>groundedness_score</th>\n",
              "      <th>groundedness_eval</th>\n",
              "      <th>relevance_score</th>\n",
              "      <th>relevance_eval</th>\n",
              "      <th>standalone_score</th>\n",
              "      <th>standalone_eval</th>\n",
              "    </tr>\n",
              "  </thead>\n",
              "  <tbody>\n",
              "    <tr>\n",
              "      <th>1</th>\n",
              "      <td># （二）其他直属单位兼职培训员数量要求\\n\\n1.各单位市公司、下属分公司的每个部门各不少...</td>\n",
              "      <td>各单位市公司、下属分公司的每个部门至少需要多少名兼职培训员？</td>\n",
              "      <td>各单位市公司、下属分公司的每个部门至少需要1名兼职培训员。</td>\n",
              "      <td>培训相关要求.pdf</td>\n",
              "      <td>5</td>\n",
              "      <td>上文明确指出“各单位市公司、下属分公司的每个部门各不少于1人（1-2人）”，这直接回答了问题...</td>\n",
              "      <td>3</td>\n",
              "      <td>该问题涉及国网公司内部的人员配置情况，特别是关于兼职培训员的数量要求，这与工会相关规章制度有...</td>\n",
              "      <td>4</td>\n",
              "      <td>该问题虽然指定了具体的组织结构（各单位市公司、下属分公司、每个部门），但并未提及特定的上下文...</td>\n",
              "    </tr>\n",
              "    <tr>\n",
              "      <th>2</th>\n",
              "      <td># 第五章 正高级职称评定标准\\n\\n# 第十三条 基本要求\\n\\n（一）取得相应学历、学位...</td>\n",
              "      <td>正高级职称评定的基本要求有哪些？</td>\n",
              "      <td>取得相应学历、学位证书；取得主任记者或主任编辑职称证书，并满足相应专业工作年限；取得新闻记者证。</td>\n",
              "      <td>职称申报规范国网人才〔2025〕11号.pdf</td>\n",
              "      <td>5</td>\n",
              "      <td>上文提供了正高级职称评定的基本要求，包括学历学位证书、主任记者或主任编辑职称证书及相应的工作...</td>\n",
              "      <td>3</td>\n",
              "      <td>此问题关于正高级职称评定的基本要求，对于国网公司内部员工来说，了解职称评定的相关规定有助于他...</td>\n",
              "      <td>4</td>\n",
              "      <td>该问题询问的是正高级职称评定的基本要求，虽然涉及到特定的职业评定领域，但问题本身已经提供了足...</td>\n",
              "    </tr>\n",
              "    <tr>\n",
              "      <th>3</th>\n",
              "      <td># 1、个人所得税政策\\n\\n个人所得税以所得人为纳税人，以支付所得单位或者个人为扣缴义务人...</td>\n",
              "      <td>当全年的应纳税所得额超过660000元但不超过960000元时，个人所得税的适用税率是多少？</td>\n",
              "      <td>当全年的应纳税所得额超过660000元但不超过960000元时，个人所得税的适用税率是35%。</td>\n",
              "      <td>办公室（党委办公室）_岗位绩效工资管理实施方案及薪酬相关政策解读_20230716.pdf</td>\n",
              "      <td>5</td>\n",
              "      <td>根据给定的上下文，可以清晰、无歧义地找到当全年的应纳税所得额超过660000元但不超过960...</td>\n",
              "      <td>2</td>\n",
              "      <td>该问题主要涉及个人所得税的税率计算，与国网公司内部员工了解工会相关规章制度的直接关联性较低。...</td>\n",
              "      <td>5</td>\n",
              "      <td>该问题明确提出了一个具体的税务计算场景，即当个人的应纳税所得额落在660000元至96000...</td>\n",
              "    </tr>\n",
              "    <tr>\n",
              "      <th>4</th>\n",
              "      <td># 《国家电网有限公司安全教育培训工作规定》\\n\\n国网（安监/4）984-2019\\n\\n...</td>\n",
              "      <td>新入职人员的安全教育培训内容包括哪些方面？</td>\n",
              "      <td>新入职人员的安全教育培训内容主要包括：本单位安全生产情况；安全基本知识；安全生产规章制度、安...</td>\n",
              "      <td>员工规章制度应知应会手册.pdf</td>\n",
              "      <td>5</td>\n",
              "      <td>上文详细列出了新入职人员安全教育培训的内容，包括安全生产情况、安全基本知识、安全生产规章制度...</td>\n",
              "      <td>2</td>\n",
              "      <td>该问题主要关注的是新入职人员的安全教育培训内容，这与工会相关规章制度的直接关联性较低。工会规...</td>\n",
              "      <td>4</td>\n",
              "      <td>该问题询问的是新入职人员的安全教育培训内容，虽然它涉及特定的职业培训场景，但并不依赖于具体的...</td>\n",
              "    </tr>\n",
              "    <tr>\n",
              "      <th>8</th>\n",
              "      <td># 13.1一般注意事项\\n\\n13.1.1任何人进入生产现场（办公室、控制室、值班室和检修...</td>\n",
              "      <td>在检修期间需将栏杆拆除时，应采取什么措施？</td>\n",
              "      <td>应装设临时遮栏，并在检修结束时将栏杆立即装回。</td>\n",
              "      <td>电力安全工作规程_安全规程电缆部分.pdf</td>\n",
              "      <td>5</td>\n",
              "      <td>根据给定的上下文，可以清晰地了解到在检修期间需将栏杆拆除时，应采取的措施是装设临时遮栏，并在...</td>\n",
              "      <td>2</td>\n",
              "      <td>该问题主要涉及的是安全措施和操作规程，而不是直接与工会相关规章制度有关。虽然了解此类信息对于...</td>\n",
              "      <td>4</td>\n",
              "      <td>该问题描述了一个具体的场景，即“在检修期间需将栏杆拆除时”，并询问在这种情况下应采取什么措施...</td>\n",
              "    </tr>\n",
              "  </tbody>\n",
              "</table>\n",
              "</div>\n",
              "    <div class=\"colab-df-buttons\">\n",
              "\n",
              "  <div class=\"colab-df-container\">\n",
              "    <button class=\"colab-df-convert\" onclick=\"convertToInteractive('df-ff3c29c0-b73c-4ccb-8791-9b8ed74d1225')\"\n",
              "            title=\"Convert this dataframe to an interactive table.\"\n",
              "            style=\"display:none;\">\n",
              "\n",
              "  <svg xmlns=\"http://www.w3.org/2000/svg\" height=\"24px\" viewBox=\"0 -960 960 960\">\n",
              "    <path d=\"M120-120v-720h720v720H120Zm60-500h600v-160H180v160Zm220 220h160v-160H400v160Zm0 220h160v-160H400v160ZM180-400h160v-160H180v160Zm440 0h160v-160H620v160ZM180-180h160v-160H180v160Zm440 0h160v-160H620v160Z\"/>\n",
              "  </svg>\n",
              "    </button>\n",
              "\n",
              "  <style>\n",
              "    .colab-df-container {\n",
              "      display:flex;\n",
              "      gap: 12px;\n",
              "    }\n",
              "\n",
              "    .colab-df-convert {\n",
              "      background-color: #E8F0FE;\n",
              "      border: none;\n",
              "      border-radius: 50%;\n",
              "      cursor: pointer;\n",
              "      display: none;\n",
              "      fill: #1967D2;\n",
              "      height: 32px;\n",
              "      padding: 0 0 0 0;\n",
              "      width: 32px;\n",
              "    }\n",
              "\n",
              "    .colab-df-convert:hover {\n",
              "      background-color: #E2EBFA;\n",
              "      box-shadow: 0px 1px 2px rgba(60, 64, 67, 0.3), 0px 1px 3px 1px rgba(60, 64, 67, 0.15);\n",
              "      fill: #174EA6;\n",
              "    }\n",
              "\n",
              "    .colab-df-buttons div {\n",
              "      margin-bottom: 4px;\n",
              "    }\n",
              "\n",
              "    [theme=dark] .colab-df-convert {\n",
              "      background-color: #3B4455;\n",
              "      fill: #D2E3FC;\n",
              "    }\n",
              "\n",
              "    [theme=dark] .colab-df-convert:hover {\n",
              "      background-color: #434B5C;\n",
              "      box-shadow: 0px 1px 3px 1px rgba(0, 0, 0, 0.15);\n",
              "      filter: drop-shadow(0px 1px 2px rgba(0, 0, 0, 0.3));\n",
              "      fill: #FFFFFF;\n",
              "    }\n",
              "  </style>\n",
              "\n",
              "    <script>\n",
              "      const buttonEl =\n",
              "        document.querySelector('#df-ff3c29c0-b73c-4ccb-8791-9b8ed74d1225 button.colab-df-convert');\n",
              "      buttonEl.style.display =\n",
              "        google.colab.kernel.accessAllowed ? 'block' : 'none';\n",
              "\n",
              "      async function convertToInteractive(key) {\n",
              "        const element = document.querySelector('#df-ff3c29c0-b73c-4ccb-8791-9b8ed74d1225');\n",
              "        const dataTable =\n",
              "          await google.colab.kernel.invokeFunction('convertToInteractive',\n",
              "                                                    [key], {});\n",
              "        if (!dataTable) return;\n",
              "\n",
              "        const docLinkHtml = 'Like what you see? Visit the ' +\n",
              "          '<a target=\"_blank\" href=https://colab.research.google.com/notebooks/data_table.ipynb>data table notebook</a>'\n",
              "          + ' to learn more about interactive tables.';\n",
              "        element.innerHTML = '';\n",
              "        dataTable['output_type'] = 'display_data';\n",
              "        await google.colab.output.renderOutput(dataTable, element);\n",
              "        const docLink = document.createElement('div');\n",
              "        docLink.innerHTML = docLinkHtml;\n",
              "        element.appendChild(docLink);\n",
              "      }\n",
              "    </script>\n",
              "  </div>\n",
              "\n",
              "\n",
              "    <div id=\"df-19f131c0-76df-414a-a1af-c10d028faf58\">\n",
              "      <button class=\"colab-df-quickchart\" onclick=\"quickchart('df-19f131c0-76df-414a-a1af-c10d028faf58')\"\n",
              "                title=\"Suggest charts\"\n",
              "                style=\"display:none;\">\n",
              "\n",
              "<svg xmlns=\"http://www.w3.org/2000/svg\" height=\"24px\"viewBox=\"0 0 24 24\"\n",
              "     width=\"24px\">\n",
              "    <g>\n",
              "        <path d=\"M19 3H5c-1.1 0-2 .9-2 2v14c0 1.1.9 2 2 2h14c1.1 0 2-.9 2-2V5c0-1.1-.9-2-2-2zM9 17H7v-7h2v7zm4 0h-2V7h2v10zm4 0h-2v-4h2v4z\"/>\n",
              "    </g>\n",
              "</svg>\n",
              "      </button>\n",
              "\n",
              "<style>\n",
              "  .colab-df-quickchart {\n",
              "      --bg-color: #E8F0FE;\n",
              "      --fill-color: #1967D2;\n",
              "      --hover-bg-color: #E2EBFA;\n",
              "      --hover-fill-color: #174EA6;\n",
              "      --disabled-fill-color: #AAA;\n",
              "      --disabled-bg-color: #DDD;\n",
              "  }\n",
              "\n",
              "  [theme=dark] .colab-df-quickchart {\n",
              "      --bg-color: #3B4455;\n",
              "      --fill-color: #D2E3FC;\n",
              "      --hover-bg-color: #434B5C;\n",
              "      --hover-fill-color: #FFFFFF;\n",
              "      --disabled-bg-color: #3B4455;\n",
              "      --disabled-fill-color: #666;\n",
              "  }\n",
              "\n",
              "  .colab-df-quickchart {\n",
              "    background-color: var(--bg-color);\n",
              "    border: none;\n",
              "    border-radius: 50%;\n",
              "    cursor: pointer;\n",
              "    display: none;\n",
              "    fill: var(--fill-color);\n",
              "    height: 32px;\n",
              "    padding: 0;\n",
              "    width: 32px;\n",
              "  }\n",
              "\n",
              "  .colab-df-quickchart:hover {\n",
              "    background-color: var(--hover-bg-color);\n",
              "    box-shadow: 0 1px 2px rgba(60, 64, 67, 0.3), 0 1px 3px 1px rgba(60, 64, 67, 0.15);\n",
              "    fill: var(--button-hover-fill-color);\n",
              "  }\n",
              "\n",
              "  .colab-df-quickchart-complete:disabled,\n",
              "  .colab-df-quickchart-complete:disabled:hover {\n",
              "    background-color: var(--disabled-bg-color);\n",
              "    fill: var(--disabled-fill-color);\n",
              "    box-shadow: none;\n",
              "  }\n",
              "\n",
              "  .colab-df-spinner {\n",
              "    border: 2px solid var(--fill-color);\n",
              "    border-color: transparent;\n",
              "    border-bottom-color: var(--fill-color);\n",
              "    animation:\n",
              "      spin 1s steps(1) infinite;\n",
              "  }\n",
              "\n",
              "  @keyframes spin {\n",
              "    0% {\n",
              "      border-color: transparent;\n",
              "      border-bottom-color: var(--fill-color);\n",
              "      border-left-color: var(--fill-color);\n",
              "    }\n",
              "    20% {\n",
              "      border-color: transparent;\n",
              "      border-left-color: var(--fill-color);\n",
              "      border-top-color: var(--fill-color);\n",
              "    }\n",
              "    30% {\n",
              "      border-color: transparent;\n",
              "      border-left-color: var(--fill-color);\n",
              "      border-top-color: var(--fill-color);\n",
              "      border-right-color: var(--fill-color);\n",
              "    }\n",
              "    40% {\n",
              "      border-color: transparent;\n",
              "      border-right-color: var(--fill-color);\n",
              "      border-top-color: var(--fill-color);\n",
              "    }\n",
              "    60% {\n",
              "      border-color: transparent;\n",
              "      border-right-color: var(--fill-color);\n",
              "    }\n",
              "    80% {\n",
              "      border-color: transparent;\n",
              "      border-right-color: var(--fill-color);\n",
              "      border-bottom-color: var(--fill-color);\n",
              "    }\n",
              "    90% {\n",
              "      border-color: transparent;\n",
              "      border-bottom-color: var(--fill-color);\n",
              "    }\n",
              "  }\n",
              "</style>\n",
              "\n",
              "      <script>\n",
              "        async function quickchart(key) {\n",
              "          const quickchartButtonEl =\n",
              "            document.querySelector('#' + key + ' button');\n",
              "          quickchartButtonEl.disabled = true;  // To prevent multiple clicks.\n",
              "          quickchartButtonEl.classList.add('colab-df-spinner');\n",
              "          try {\n",
              "            const charts = await google.colab.kernel.invokeFunction(\n",
              "                'suggestCharts', [key], {});\n",
              "          } catch (error) {\n",
              "            console.error('Error during call to suggestCharts:', error);\n",
              "          }\n",
              "          quickchartButtonEl.classList.remove('colab-df-spinner');\n",
              "          quickchartButtonEl.classList.add('colab-df-quickchart-complete');\n",
              "        }\n",
              "        (() => {\n",
              "          let quickchartButtonEl =\n",
              "            document.querySelector('#df-19f131c0-76df-414a-a1af-c10d028faf58 button');\n",
              "          quickchartButtonEl.style.display =\n",
              "            google.colab.kernel.accessAllowed ? 'block' : 'none';\n",
              "        })();\n",
              "      </script>\n",
              "    </div>\n",
              "\n",
              "    </div>\n",
              "  </div>\n"
            ],
            "application/vnd.google.colaboratory.intrinsic+json": {
              "type": "dataframe",
              "variable_name": "final_datasets",
              "summary": "{\n  \"name\": \"final_datasets\",\n  \"rows\": 572,\n  \"fields\": [\n    {\n      \"column\": \"context\",\n      \"properties\": {\n        \"dtype\": \"string\",\n        \"num_unique_values\": 550,\n        \"samples\": [\n          \"\\u95ee\\u9898\\u3002\\n\\n\\u7b2c\\u4e09\\u5341\\u4e09\\u6761\\u5206\\u6790\\u5e94\\u7528\\u7c7b\\u6570\\u636e\\u9700\\u6c42\\u7ba1\\u7406\\u3002\\u65b0\\u589e\\u6d89\\u53ca\\u8de8\\u4e13\\u4e1a\\u6570\\u636e\\u8ba1\\u7b97\\u6c47\\u603b\\u7684\\u62a5\\u8868\\u3001\\u6307\\u6807\\u7b49\\u5206\\u6790\\u5e94\\u7528\\u9700\\u6c42\\uff0c\\u539f\\u5219\\u4e0a\\u57fa\\u4e8e\\u5168\\u4e1a\\u52a1\\u7edf\\u4e00\\u6570\\u636e\\u4e2d\\u5fc3\\u548c\\u6570\\u636e\\u4e2d\\u53f0\\u5b9e\\u73b0\\uff1b\\u5f53\\u524d\\u57fa\\u4e8e\\u4e1a\\u52a1\\u4fe1\\u606f\\u7cfb\\u7edf\\u5efa\\u8bbe\\u7684\\u5206\\u6790\\u5e94\\u7528\\u7c7b\\u9700\\u6c42\\uff0c\\u5177\\u5907\\u6761\\u4ef6\\u540e\\u9010\\u6b65\\u8fc1\\u79fb\\u81f3\\u5168\\u4e1a\\u52a1\\u7edf\\u4e00\\u6570\\u636e\\u4e2d\\u5fc3\\u548c\\u6570\\u636e\\u4e2d\\u53f0\\u3002\\u5206\\u6790\\u5e94\\u7528\\u7c7b\\u9700\\u6c42\\u5efa\\u8bbe\\u5b9e\\u65bd\\u8fc7\\u7a0b\\u4e2d\\uff0c\\u5e94\\u6309\\u7167\\u201c\\u4e00\\u6e90\\u591a\\u7528\\u201d\\u7684\\u539f\\u5219\\uff0c\\u5f00\\u5c55\\u6570\\u636e\\u9700\\u6c42\\u5ba1\\u67e5\\uff0c\\u907f\\u514d\\u91cd\\u590d\\u5efa\\u8bbe\\u3002\\n\\n\\u7b2c\\u4e09\\u5341\\u56db\\u6761\\u6570\\u636e\\u5171\\u4eab\\u7ba1\\u7406\\u4e3b\\u8981\\u5305\\u62ec\\u6570\\u636e\\u5f52\\u96c6\\u7ba1\\u7406\\u548c\\u6570\\u636e\\u5171\\u4eab\\u8d1f\\u9762\\u6e05\\u5355\\u3002\\n\\n\\u7b2c\\u4e09\\u5341\\u4e94\\u6761\\u6570\\u636e\\u5f52\\u96c6\\u7ba1\\u7406\\u3002\\u4f9d\\u6258\\u6570\\u636e\\u4e2d\\u53f0\\uff0c\\u5c06\\u5206\\u6563\\u5728\\u4e0d\\u540c\\u4e1a\\u52a1\\u4fe1\\u606f\\u7cfb\\u7edf\\u7684\\u6570\\u636e\\u8fdb\\u884c\\u6574\\u5408\\u6c47\\u805a\\uff0c\\u5f62\\u6210\\u7edf\\u4e00\\u7684\\u6570\\u636e\\u8d44\\u6e90\\u4e2d\\u5fc3\\u3002\\u6309\\u7167\\u201c\\u6570\\u636e\\u4e00\\u4e2a\\u6e90\\u201d\\u7684\\u8981\\u6c42\\uff0c\\u5b9e\\u73b0\\u516c\\u53f8\\u6570\\u636e\\u7684\\u4e00\\u6b21\\u91c7\\u96c6\\u3001\\u591a\\u5904\\u4f7f\\u7528\\u3002\\u4fe1\\u901a\\u516c\\u53f8\\u6839\\u636e\\u516c\\u53f8\\u8981\\u6c42\\uff0c\\u63a8\\u8fdb\\u5916\\u90e8\\u6570\\u636e\\u7edf\\u4e00\\u7eb3\\u7ba1\\u3002\\n\\n\\u7b2c\\u4e09\\u5341\\u516d\\u6761\\u5efa\\u7acb\\u6570\\u636e\\u5171\\u4eab\\u8d1f\\u9762\\u6e05\\u5355\\u3002\\u575a\\u6301\\u201c\\u4ee5\\u5171\\u4eab\\u4e3a\\u539f\\u5219\\u3001\\u4e0d\\u5171\\u4eab\\u4e3a\\u4f8b\\u5916\\u201d\\uff0c\\u5efa\\u7acb\\u516c\\u53f8\\u6570\\u636e\\u5171\\u4eab\\u8d1f\\u9762\\u6e05\\u5355\\u5236\\u5ea6\\u3002\\u4e1a\\u52a1\\u90e8\\u95e8\\u63d0\\u51fa\\u672c\\u4e13\\u4e1a\\u6570\\u636e\\u5171\\u4eab\\u8d1f\\u9762\\u6e05\\u5355\\uff0c\\u5bf9\\u5217\\u5165\\u8d1f\\u9762\\u6e05\\u5355\\u7684\\u6570\\u636e\\u5e94\\u8be6\\u7ec6\\u8bf4\\u660e\\u539f\\u56e0\\uff0c\\u7ecf\\u4e92\\u8054\\u7f51\\u90e8\\u5ba1\\u8bae\\u901a\\u8fc7\\u540e\\uff0c\\u7531\\u4fe1\\u901a\\u516c\\u53f8\\u8d1f\\u8d23\\u7f16\\u5236\\u516c\\u53f8\\u6570\\u636e\\u8d1f\\u9762\\u6e05\\u5355\\u3002\\u6570\\u636e\\u8d1f\\u9762\\u6e05\\u5355\\u7ecf\\u516c\\u53f8\\u51b3\\u7b56\\u540e\\u7edf\\u4e00\\u53d1\\u5e03\\u3001\\u5b9a\\u671f\\u66f4\\u65b0\\u3002\\u539f\\u5219\\u4e0a\\u9664\\u5217\\u5165\\u8d1f\\u9762\\u6e05\\u5355\\u7684\\u6570\\u636e\\u5916\\uff0c\\u5176\\u4f59\\u6570\\u636e\\u5747\\u53ef\\u5728\\u516c\\u53f8\\u5185\\u90e8\\u5171\\u4eab\\u4f7f\\u7528\\u3002\",\n          \"# \\u7b2c\\u56db\\u7ae0 \\u5c97\\u4f4d\\u85aa\\u70b9\\u5de5\\u8d44\\n\\n\\u7b2c\\u5341\\u4e94\\u6761\\u5c97\\u4f4d\\u85aa\\u70b9\\u5de5\\u8d44\\u662f\\u4f53\\u73b0\\u5c97\\u4f4d\\u4ef7\\u503c\\u3001\\u5458\\u5de5\\u80fd\\u529b\\u7d20\\u8d28\\u548c\\u7d2f\\u79ef\\u8d21\\u732e\\u7684\\u5de5\\u8d44\\u5355\\u5143\\uff0c\\u4f9d\\u636e\\u5c97\\u7ea7\\u548c\\u85aa\\u6863\\uff08\\u7ea7\\uff09\\u786e\\u5b9a\\u85aa\\u70b9\\u6570\\uff0c\\u4ee5\\u85aa\\u70b9\\u6570\\u548c\\u70b9\\u503c\\u786e\\u5b9a\\u53d1\\u653e\\u989d\\u5ea6\\u3002\\u8ba1\\u7b97\\u516c\\u5f0f\\u4e3a\\uff1a\\n\\n\\u5c97\\u4f4d\\u85aa\\u70b9\\u5de5\\u8d44 $=$ \\u85aa\\u70b9\\u6570 $\\\\times$ \\u70b9\\u503c\\n\\n\\u7b2c\\u5341\\u516d\\u6761\\u5c97\\u4f4d\\u85aa\\u70b9\\u5de5\\u8d44\\u6807\\u51c6\\u5bf9\\u5e9460\\u4e2a\\u5c97\\u7ea7\\uff0c\\u5171\\u8bbe\\u7f6e130\\u4e2a\\u85aa\\u7ea7\\uff0c\\u6bcf\\u4e2a\\u5c97\\u7ea7\\u8bbe\\u7f6e12\\u4e2a\\u85aa\\u6863\\uff08\\u7ea7\\uff09\\uff0c\\u76f8\\u90bb\\u5c97\\u7ea7\\u4ea4\\u53c9\\u8bbe\\u7f6e\\u85aa\\u7ea7\\u3002\\u6bcf\\u4e2a\\u85aa\\u7ea7\\u5bf9\\u5e94\\u4e00\\u4e2a\\u85aa\\u70b9\\u6570\\uff0c1\\u85aa\\u7ea7\\u4e3a500\\u70b9\\uff0c130\\u85aa\\u7ea7\\u4e3a12000\\u70b9\\uff0c\\u5404\\u85aa\\u70b9\\u6570\\u7b49\\u6bd4\\u6392\\u5217\\uff08\\u9644\\u4ef63\\uff09\\u3002\\n\\n\\u7b2c\\u5341\\u4e03\\u6761\\u5404\\u5355\\u4f4d\\u6839\\u636e\\u5e74\\u5ea6\\u5de5\\u8d44\\u603b\\u989d\\u3001\\u5c97\\u4f4d\\u85aa\\u70b9\\u5de5\\u8d44\\u5360\\u6bd4\\u53ca\\u5458\\u5de5\\u85aa\\u70b9\\u6570\\u603b\\u548c\\u786e\\u5b9a\\u5c97\\u4f4d\\u85aa\\u70b9\\u70b9\\u503c\\uff08\\u6bcf\\u5e74\\u5b9a\\u671f\\u5411\\u516c\\u53f8\\u5907\\u6848\\uff09\\u3002\\u516c\\u53f8\\u672c\\u90e8\\u53ca\\u6240\\u5c5e\\u5355\\u4f4d\\u5c97\\u4f4d\\u85aa\\u70b9\\u5de5\\u8d44\\u5360\\u6bd4\\u63a7\\u5236\\u5728\\u5e74\\u5ea6\\u5de5\\u8d44\\u603b\\u989d\\u7684$40 \\\\%$ \\uff0c\\u5e02\\u573a\\u5316\\u4ea7\\u4e1a\\u3001\\u65b0\\u5174\\u4e1a\\u52a1\\u5355\\u4f4d\\u63a7\\u5236\\u5728 $2 5 \\\\%$ \\u3002\\n\\n\\u70b9\\u503c $=$ \\uff08\\u5e74\\u5ea6\\u5de5\\u8d44\\u603b\\u989d $\\\\times$ \\u5c97\\u4f4d\\u85aa\\u70b9\\u5de5\\u8d44\\u5360\\u6bd4\\uff09 $/ \\\\ ( \\\\ \\\\Sigma )$ \\u5458\\u5de5\\u85aa\\u70b9\\u6570 $\\\\times 1 2$ \\uff09\",\n          \"\\uff08\\u4e8c\\uff09\\u672a\\u8fbe\\u5230\\u59d4\\u6258\\u7ba1\\u7406\\u5408\\u540c\\u670d\\u52a1\\u6807\\u51c6\\u8981\\u6c42\\u7684\\uff0c\\u5176\\u7ba1\\u7406\\u8fc7\\u7a0b\\u4e2d\\u51fa\\u73b0\\u91cd\\u5927\\u95ee\\u9898\\u7684\\u3002\\n\\n\\uff08\\u4e09\\uff09\\u8fdd\\u53cd\\u59d4\\u6258\\u5408\\u540c\\u5176\\u4ed6\\u4e8b\\u5b9c\\u3002\\n\\n\\uff08\\u56db\\uff09\\u59d4\\u6258\\u5408\\u540c\\u7ec8\\u6b62\\u540e\\uff0c\\u59d4\\u6258\\u673a\\u6784\\u5e94\\u4ee5\\u8f6c\\u8d26\\u65b9\\u5f0f\\u5c06\\u4f59\\u989d\\u8f6c\\u5165\\u516c\\u53f8\\u8865\\u5145\\u533b\\u7597\\u4fdd\\u9669\\u8d44\\u91d1\\u4e13\\u6237\\uff0c\\u79fb\\u4ea4\\u4e0e\\u59d4\\u6258\\u9879\\u76ee\\u76f8\\u5173\\u7684\\u6240\\u6709\\u8d44\\u6599\\u3002\"\n        ],\n        \"semantic_type\": \"\",\n        \"description\": \"\"\n      }\n    },\n    {\n      \"column\": \"question\",\n      \"properties\": {\n        \"dtype\": \"string\",\n        \"num_unique_values\": 546,\n        \"samples\": [\n          \"\\u4e2a\\u4eba\\u201c\\u52a0\\u6743\\u603b\\u79ef\\u5206\\u201d\\u4e0e\\u201c\\u4e13\\u4e1a\\u4e0e\\u80fd\\u529b\\u8003\\u8bd5\\u201d\\u6210\\u7ee9\\u5728\\u4e2d\\u7ea7\\u804c\\u79f0\\u8bc4\\u5b9a\\u4e2d\\u7684\\u6bd4\\u4f8b\\u662f\\u591a\\u5c11\\uff1f\",\n          \"\\u516c\\u53f8\\u54ea\\u4e2a\\u90e8\\u95e8\\u8d1f\\u8d23\\u76d1\\u7763\\u6307\\u5bfc\\u57fa\\u5c42\\u5355\\u4f4d\\u8865\\u5145\\u533b\\u7597\\u4fdd\\u9669\\u7684\\u63d0\\u53d6\\u3001\\u7f34\\u7eb3\\u7b49\\u5de5\\u4f5c\\uff1f\",\n          \"\\u52e4\\u540e\\u52e4\\u670d\\u52a1\\u7684\\u5de5\\u4f5c\\u7406\\u5ff5\\u662f\\u4ec0\\u4e48\\uff1f\"\n        ],\n        \"semantic_type\": \"\",\n        \"description\": \"\"\n      }\n    },\n    {\n      \"column\": \"answer\",\n      \"properties\": {\n        \"dtype\": \"string\",\n        \"num_unique_values\": 544,\n        \"samples\": [\n          \"15\\u65e5\\u5185\\u4f5c\\u51fa\\u5de5\\u4f24\\u8ba4\\u5b9a\\u7684\\u51b3\\u5b9a\\u3002\",\n          \"\\u5bf9\\u6807\\u7ba1\\u7406\\u4e2d\\u7684\\u201c\\u4e0e\\u6807\\u6746\\u6bd4\\u201d\\u662f\\u6307\\u6839\\u636e\\u5bf9\\u6807\\u6307\\u6807\\u4f53\\u7cfb\\u6240\\u786e\\u5b9a\\u7684\\u6307\\u6807\\u53ca\\u5176\\u8bc4\\u4ef7\\u65b9\\u6cd5\\u548c\\u6743\\u91cd\\uff0c\\u5bf9\\u5404\\u5355\\u4f4d\\u6307\\u6807\\u5b8c\\u6210\\u503c\\u8fdb\\u884c\\u5bf9\\u6bd4\\uff0c\\u5b9a\\u91cf\\u53cd\\u6620\\u5404\\u5355\\u4f4d\\u76f8\\u5bf9\\u5176\\u4ed6\\u5355\\u4f4d\\u7684\\u6a2a\\u5411\\u5148\\u8fdb\\u7a0b\\u5ea6\\u3002\",\n          \"\\u6240\\u5728\\u5355\\u4f4d\\u5bf9\\u7533\\u62a5\\u4eba\\u5458\\u63d0\\u4f9b\\u7684\\u76f4\\u63a5\\u8bc1\\u660e\\u548c\\u652f\\u6491\\u6750\\u6599\\u8fdb\\u884c\\u9274\\u5b9a\\u65f6\\uff0c\\u9700\\u8981\\u4f9d\\u636e\\u8bc4\\u4ef7\\u6807\\u51c6\\u5404\\u6761\\u6b3e\\u5bf9\\u5e94\\u7684\\u5177\\u4f53\\u8bc4\\u5206\\u6807\\u51c6\\u3002\"\n        ],\n        \"semantic_type\": \"\",\n        \"description\": \"\"\n      }\n    },\n    {\n      \"column\": \"source_doc\",\n      \"properties\": {\n        \"dtype\": \"category\",\n        \"num_unique_values\": 29,\n        \"samples\": [\n          \"\\u7535\\u529b\\u5b89\\u5168\\u7f51_\\u5de5\\u4f24\\u4fdd\\u9669\\u6761\\u4f8b\\uff08\\u7b2c\\u4e00\\u7ae0\\uff09\",\n          \"\\u56fd\\u7f51\\u9655\\u897f\\u7701\\u7535\\u529b\\u516c\\u53f8\\u8865\\u5145\\u533b\\u7597\\u4fdd\\u9669\\u5b9e\\u65bd\\u529e\\u6cd5.pdf\",\n          \"\\u767e\\u5ea6\\u6587\\u5e93_\\u56fd\\u5bb6\\u7535\\u7f51\\u516c\\u53f8\\u4f01\\u4e1a\\u6587\\u5316\\u624b\\u518c\"\n        ],\n        \"semantic_type\": \"\",\n        \"description\": \"\"\n      }\n    },\n    {\n      \"column\": \"groundedness_score\",\n      \"properties\": {\n        \"dtype\": \"number\",\n        \"std\": 2,\n        \"min\": 4,\n        \"max\": 44,\n        \"num_unique_values\": 4,\n        \"samples\": [\n          4,\n          33,\n          5\n        ],\n        \"semantic_type\": \"\",\n        \"description\": \"\"\n      }\n    },\n    {\n      \"column\": \"groundedness_eval\",\n      \"properties\": {\n        \"dtype\": \"string\",\n        \"num_unique_values\": 572,\n        \"samples\": [\n          \"\\u6839\\u636e\\u63d0\\u4f9b\\u7684\\u4e0a\\u4e0b\\u6587\\uff0c\\u53d8\\u7535\\u8fd0\\u7ef4\\u68c0\\u4fee\\u7ba1\\u7406\\u9075\\u5faa\\u7684\\u539f\\u5219\\u660e\\u786e\\u5217\\u51fa\\uff0c\\u5305\\u62ec\\u201c\\u5b89\\u5168\\u7b2c\\u4e00\\u3001\\u5206\\u7ea7\\u8d1f\\u8d23\\u3001\\u7cbe\\u76ca\\u7ba1\\u7406\\u3001\\u6807\\u51c6\\u4f5c\\u4e1a\\u201d\\u3002\\u6bcf\\u4e2a\\u539f\\u5219\\u7684\\u5177\\u4f53\\u542b\\u4e49\\u4e5f\\u5728\\u4e0a\\u4e0b\\u6587\\u4e2d\\u5f97\\u5230\\u4e86\\u8be6\\u7ec6\\u7684\\u89e3\\u91ca\\uff0c\\u56e0\\u6b64\\u53ef\\u4ee5\\u6e05\\u6670\\u65e0\\u6b67\\u4e49\\u5730\\u56de\\u7b54\\u95ee\\u9898\\u3002\",\n          \"\\u6839\\u636e\\u63d0\\u4f9b\\u7684\\u4e0a\\u4e0b\\u6587\\uff0c\\u53ef\\u4ee5\\u6e05\\u6670\\u5730\\u4e86\\u89e3\\u5230\\u5404\\u5355\\u4f4dAED\\u5de5\\u4f5c\\u8054\\u7cfb\\u4eba\\u7684\\u804c\\u8d23\\uff0c\\u5305\\u62ec\\u786e\\u5b9a\\u548c\\u62a5\\u544a\\u8054\\u7cfb\\u4eba\\u4fe1\\u606f\\u3001\\u7275\\u5934\\u843d\\u5b9e\\u8bbe\\u5907\\u7ba1\\u7406\\u8d23\\u4efb\\u4eba\\u3001\\u786e\\u4fdd\\u8bbe\\u5907\\u4e0d\\u88ab\\u4eba\\u4e3a\\u635f\\u574f\\u3001\\u632a\\u52a8\\u6216\\u4e22\\u5931\\u3001\\u914d\\u5408\\u5382\\u5bb6\\u786e\\u5b9a\\u8bbe\\u5907\\u4f4d\\u7f6e\\u3001\\u5e74\\u5e95\\u4e0a\\u62a5\\u7edf\\u8ba1\\u8868\\u7b49\\u3002\\u8fd9\\u4e9b\\u4fe1\\u606f\\u76f4\\u63a5\\u56de\\u7b54\\u4e86\\u95ee\\u9898\\uff0c\\u6ca1\\u6709\\u6b67\\u4e49\\u3002\",\n          \"\\u4e0a\\u4e0b\\u6587\\u4e2d\\u660e\\u786e\\u63d0\\u5230\\u4e86\\u4e00\\u6b21\\u6027\\u5de5\\u4ea1\\u8865\\u52a9\\u91d1\\u7684\\u6807\\u51c6\\uff0c\\u5373\\u4e3a\\u4e0a\\u4e00\\u5e74\\u5ea6\\u5168\\u56fd\\u57ce\\u9547\\u5c45\\u6c11\\u4eba\\u5747\\u53ef\\u652f\\u914d\\u6536\\u5165\\u768420\\u500d\\uff0c\\u5e76\\u4e14\\u8fd8\\u7ed9\\u51fa\\u4e86\\u4e00\\u4e2a\\u5177\\u4f53\\u7684\\u4f8b\\u5b50\\uff082010\\u5e74\\u7684\\u6570\\u636e\\uff09\\u3002\\u56e0\\u6b64\\uff0c\\u6839\\u636e\\u7ed9\\u5b9a\\u7684\\u4e0a\\u4e0b\\u6587\\uff0c\\u53ef\\u4ee5\\u6e05\\u6670\\u3001\\u65e0\\u6b67\\u4e49\\u5730\\u56de\\u7b54\\u95ee\\u9898\\u3002\"\n        ],\n        \"semantic_type\": \"\",\n        \"description\": \"\"\n      }\n    },\n    {\n      \"column\": \"relevance_score\",\n      \"properties\": {\n        \"dtype\": \"number\",\n        \"std\": 185,\n        \"min\": 2,\n        \"max\": 4445,\n        \"num_unique_values\": 7,\n        \"samples\": [\n          3,\n          2,\n          4445\n        ],\n        \"semantic_type\": \"\",\n        \"description\": \"\"\n      }\n    },\n    {\n      \"column\": \"relevance_eval\",\n      \"properties\": {\n        \"dtype\": \"string\",\n        \"num_unique_values\": 572,\n        \"samples\": [\n          \"\\u8be5\\u95ee\\u9898\\u8be2\\u95ee\\u7684\\u662f\\u53d8\\u7535\\u8fd0\\u7ef4\\u68c0\\u4fee\\u7ba1\\u7406\\u9075\\u5faa\\u7684\\u539f\\u5219\\uff0c\\u8fd9\\u4e0e\\u56fd\\u7f51\\u516c\\u53f8\\u5185\\u90e8\\u5458\\u5de5\\u4e86\\u89e3\\u5de5\\u4f1a\\u76f8\\u5173\\u89c4\\u7ae0\\u5236\\u5ea6\\u7684\\u76f4\\u63a5\\u5173\\u8054\\u6027\\u8f83\\u4f4e\\u3002\\u5de5\\u4f1a\\u76f8\\u5173\\u89c4\\u7ae0\\u5236\\u5ea6\\u4e3b\\u8981\\u6d89\\u53ca\\u5458\\u5de5\\u6743\\u76ca\\u4fdd\\u62a4\\u3001\\u798f\\u5229\\u5f85\\u9047\\u3001\\u52b3\\u52a8\\u5173\\u7cfb\\u7b49\\u65b9\\u9762\\uff0c\\u800c\\u53d8\\u7535\\u8fd0\\u7ef4\\u68c0\\u4fee\\u7ba1\\u7406\\u7684\\u539f\\u5219\\u66f4\\u504f\\u5411\\u4e8e\\u6280\\u672f\\u64cd\\u4f5c\\u548c\\u7ba1\\u7406\\u5c42\\u9762\\u7684\\u5185\\u5bb9\\u3002\\u56e0\\u6b64\\uff0c\\u8be5\\u95ee\\u9898\\u5bf9\\u4e8e\\u4e86\\u89e3\\u5de5\\u4f1a\\u76f8\\u5173\\u89c4\\u7ae0\\u5236\\u5ea6\\u7684\\u76f4\\u63a5\\u5e2e\\u52a9\\u8f83\\u5c0f\\u3002\",\n          \"\\u8be5\\u95ee\\u9898\\u8be2\\u95ee\\u4e86\\u5404\\u5355\\u4f4dAED\\uff08\\u81ea\\u52a8\\u4f53\\u5916\\u9664\\u98a4\\u5668\\uff09\\u5de5\\u4f5c\\u8054\\u7cfb\\u4eba\\u7684\\u804c\\u8d23\\uff0c\\u8fd9\\u4e0e\\u5de5\\u4f1a\\u76f8\\u5173\\u89c4\\u7ae0\\u5236\\u5ea6\\u7684\\u76f4\\u63a5\\u5173\\u8054\\u6027\\u4e0d\\u5f3a\\uff0c\\u9664\\u975e\\u5de5\\u4f1a\\u7279\\u522b\\u8d1f\\u8d23\\u6216\\u53c2\\u4e0e\\u7ba1\\u7406AED\\u7684\\u4f7f\\u7528\\u548c\\u57f9\\u8bad\\u3002\\u7136\\u800c\\uff0c\\u5982\\u679c\\u5de5\\u4f1a\\u627f\\u62c5\\u4e86\\u5458\\u5de5\\u5065\\u5eb7\\u548c\\u5b89\\u5168\\u7684\\u90e8\\u5206\\u804c\\u8d23\\uff0c\\u4e86\\u89e3AED\\u5de5\\u4f5c\\u8054\\u7cfb\\u4eba\\u7684\\u804c\\u8d23\\u53ef\\u80fd\\u6709\\u52a9\\u4e8e\\u5de5\\u4f1a\\u6210\\u5458\\u66f4\\u597d\\u5730\\u5c65\\u884c\\u5176\\u804c\\u8d23\\uff0c\\u4fdd\\u62a4\\u5458\\u5de5\\u7684\\u5065\\u5eb7\\u548c\\u5b89\\u5168\\u3002\\u56e0\\u6b64\\uff0c\\u8be5\\u95ee\\u9898\\u5bf9\\u4e8e\\u4e86\\u89e3\\u5de5\\u4f1a\\u5728\\u7279\\u5b9a\\u5065\\u5eb7\\u548c\\u5b89\\u5168\\u804c\\u8d23\\u4e2d\\u7684\\u4f5c\\u7528\\u53ef\\u80fd\\u6709\\u4e00\\u5b9a\\u7684\\u5e2e\\u52a9\\uff0c\\u4f46\\u5e76\\u975e\\u76f4\\u63a5\\u9488\\u5bf9\\u5de5\\u4f1a\\u7684\\u89c4\\u7ae0\\u5236\\u5ea6\\u3002\",\n          \"\\u8be5\\u95ee\\u9898\\u76f4\\u63a5\\u9488\\u5bf9\\u4e86\\u56fd\\u7f51\\u516c\\u53f8\\u5185\\u90e8\\u5458\\u5de5\\u53ef\\u80fd\\u5173\\u5fc3\\u7684\\u5177\\u4f53\\u798f\\u5229\\u5f85\\u9047\\u95ee\\u9898\\uff0c\\u5373\\u5728\\u53d1\\u751f\\u5de5\\u4ea1\\u4e8b\\u6545\\u65f6\\uff0c\\u5458\\u5de5\\u5bb6\\u5c5e\\u80fd\\u591f\\u83b7\\u5f97\\u7684\\u7ecf\\u6d4e\\u8865\\u507f\\u6807\\u51c6\\u3002\\u4e86\\u89e3\\u8fd9\\u4e00\\u4fe1\\u606f\\u5bf9\\u4e8e\\u5458\\u5de5\\u53ca\\u5176\\u5bb6\\u5c5e\\u6765\\u8bf4\\u975e\\u5e38\\u91cd\\u8981\\uff0c\\u56e0\\u4e3a\\u5b83\\u6d89\\u53ca\\u5230\\u5728\\u6781\\u7aef\\u60c5\\u51b5\\u4e0b\\u5458\\u5de5\\u5bb6\\u5ead\\u7684\\u7ecf\\u6d4e\\u4fdd\\u969c\\u3002\\u56e0\\u6b64\\uff0c\\u8fd9\\u4e2a\\u95ee\\u9898\\u5bf9\\u4e8e\\u5e2e\\u52a9\\u5458\\u5de5\\u4e86\\u89e3\\u5de5\\u4f1a\\u76f8\\u5173\\u89c4\\u7ae0\\u5236\\u5ea6\\uff0c\\u7279\\u522b\\u662f\\u6d89\\u53ca\\u5458\\u5de5\\u6743\\u76ca\\u4fdd\\u62a4\\u7684\\u90e8\\u5206\\uff0c\\u5177\\u6709\\u8f83\\u9ad8\\u7684\\u5b9e\\u7528\\u4ef7\\u503c\\u3002\"\n        ],\n        \"semantic_type\": \"\",\n        \"description\": \"\"\n      }\n    },\n    {\n      \"column\": \"standalone_score\",\n      \"properties\": {\n        \"dtype\": \"number\",\n        \"std\": 192151,\n        \"min\": 3,\n        \"max\": 4595598,\n        \"num_unique_values\": 7,\n        \"samples\": [\n          4,\n          5,\n          445\n        ],\n        \"semantic_type\": \"\",\n        \"description\": \"\"\n      }\n    },\n    {\n      \"column\": \"standalone_eval\",\n      \"properties\": {\n        \"dtype\": \"string\",\n        \"num_unique_values\": 572,\n        \"samples\": [\n          \"\\u8be5\\u95ee\\u9898\\u8be2\\u95ee\\u7684\\u662f\\u53d8\\u7535\\u8fd0\\u7ef4\\u68c0\\u4fee\\u7ba1\\u7406\\u9075\\u5faa\\u7684\\u539f\\u5219\\uff0c\\u867d\\u7136\\u6d89\\u53ca\\u7279\\u5b9a\\u7684\\u4e13\\u4e1a\\u9886\\u57df\\uff0c\\u4f46\\u95ee\\u9898\\u672c\\u8eab\\u8868\\u8ff0\\u6e05\\u6670\\uff0c\\u4e0d\\u9700\\u8981\\u989d\\u5916\\u7684\\u4e0a\\u4e0b\\u6587\\u4fe1\\u606f\\u5373\\u53ef\\u7406\\u89e3\\u5176\\u542b\\u4e49\\u3002\\u5bf9\\u4e8e\\u719f\\u6089\\u53d8\\u7535\\u8fd0\\u7ef4\\u68c0\\u4fee\\u7ba1\\u7406\\u7684\\u4e13\\u4e1a\\u4eba\\u58eb\\u6765\\u8bf4\\uff0c\\u8fd9\\u4e2a\\u95ee\\u9898\\u53ef\\u4ee5\\u76f4\\u63a5\\u88ab\\u7406\\u89e3\\u548c\\u56de\\u7b54\\u3002\",\n          \"\\u8be5\\u95ee\\u9898\\u8be2\\u95ee\\u7684\\u662f\\u5173\\u4e8e\\u5404\\u5355\\u4f4dAED\\u5de5\\u4f5c\\u8054\\u7cfb\\u4eba\\u7684\\u804c\\u8d23\\uff0c\\u867d\\u7136AED\\uff08\\u81ea\\u52a8\\u4f53\\u5916\\u9664\\u98a4\\u5668\\uff09\\u662f\\u4e00\\u4e2a\\u7279\\u5b9a\\u7684\\u672f\\u8bed\\uff0c\\u4f46\\u5bf9\\u4e8e\\u4e86\\u89e3\\u6025\\u6551\\u8bbe\\u5907\\u6216\\u76f8\\u5173\\u804c\\u8d23\\u7684\\u4eba\\u6765\\u8bf4\\uff0c\\u8fd9\\u662f\\u4e00\\u4e2a\\u53ef\\u4ee5\\u72ec\\u7acb\\u7406\\u89e3\\u7684\\u95ee\\u9898\\u3002\\u95ee\\u9898\\u672c\\u8eab\\u6ca1\\u6709\\u63d0\\u53ca\\u7279\\u5b9a\\u7684\\u4e0a\\u4e0b\\u6587\\u6216\\u573a\\u666f\\uff0c\\u4e5f\\u4e0d\\u9700\\u8981\\u989d\\u5916\\u7684\\u4fe1\\u606f\\u6765\\u7406\\u89e3\\u5176\\u542b\\u4e49\\u3002\\u56e0\\u6b64\\uff0c\\u8be5\\u95ee\\u9898\\u7684\\u72ec\\u7acb\\u6027\\u8f83\\u9ad8\\u3002\",\n          \"\\u8be5\\u95ee\\u9898\\u8be2\\u95ee\\u7684\\u662f\\u5173\\u4e8e\\u4e00\\u6b21\\u6027\\u5de5\\u4ea1\\u8865\\u52a9\\u91d1\\u7684\\u5177\\u4f53\\u6807\\u51c6\\uff0c\\u867d\\u7136\\u6d89\\u53ca\\u7279\\u5b9a\\u7684\\u793e\\u4f1a\\u4fdd\\u969c\\u6216\\u52b3\\u52a8\\u6cd5\\u9886\\u57df\\uff0c\\u4f46\\u95ee\\u9898\\u672c\\u8eab\\u8868\\u8ff0\\u6e05\\u6670\\uff0c\\u4e0d\\u4f9d\\u8d56\\u4e8e\\u7279\\u5b9a\\u7684\\u4e0a\\u4e0b\\u6587\\u6216\\u989d\\u5916\\u4fe1\\u606f\\u6765\\u7406\\u89e3\\u5176\\u542b\\u4e49\\u3002\\u4efb\\u4f55\\u4e86\\u89e3\\u76f8\\u5173\\u9886\\u57df\\u7684\\u4eba\\u58eb\\u90fd\\u80fd\\u660e\\u786e\\u95ee\\u9898\\u6240\\u6307\\u5185\\u5bb9\\uff0c\\u56e0\\u6b64\\u53ef\\u4ee5\\u7ed9\\u4e88\\u8f83\\u9ad8\\u7684\\u8bc4\\u5206\\u3002\"\n        ],\n        \"semantic_type\": \"\",\n        \"description\": \"\"\n      }\n    }\n  ]\n}"
            }
          },
          "metadata": {},
          "execution_count": 29
        }
      ]
    },
    {
      "cell_type": "code",
      "source": [
        "import pandas as pd\n",
        "import json\n",
        "\n",
        "def df_to_jsonl(df, output_path):\n",
        "    \"\"\"\n",
        "    将 Pandas DataFrame 转换为 JSON Lines 格式文件。\n",
        "    :param df: 要转换的 DataFrame。\n",
        "    :param output_path: 输出的 .jsonl 文件路径。\n",
        "    \"\"\"\n",
        "    with open(output_path, \"w\", encoding=\"utf-8\") as f:\n",
        "        # 逐行遍历 DataFrame\n",
        "        for _, row in df.iterrows():\n",
        "            # 将每行转换为字典，并写入 JSON 行（确保中文不转义）\n",
        "            json.dump(row.to_dict(), f, ensure_ascii=False)\n",
        "            f.write(\"\\n\")  # 每行一个 JSON 对象，用换行分隔\n",
        "\n",
        "\n",
        "\n",
        "# 转换为 JSON Lines\n",
        "df_to_jsonl(final_datasets, \"final_datasets.jsonl\")\n",
        "\n",
        "print(\"已将过滤后的数据集保存为 final_datasets.jsonl\")"
      ],
      "metadata": {
        "colab": {
          "base_uri": "https://localhost:8080/"
        },
        "id": "KcG2Ggp7kKtJ",
        "outputId": "e96e10a2-fec6-4b91-db9d-e7d4663b0726"
      },
      "execution_count": null,
      "outputs": [
        {
          "output_type": "stream",
          "name": "stdout",
          "text": [
            "已将过滤后的数据集保存为 final_datasets.jsonl\n"
          ]
        }
      ]
    }
  ],
  "metadata": {
    "colab": {
      "provenance": []
    },
    "kernelspec": {
      "display_name": "Python 3",
      "name": "python3"
    },
    "language_info": {
      "name": "python"
    },
    "widgets": {
      "application/vnd.jupyter.widget-state+json": {
        "72df92b390194f47a8632ecee8a0fca8": {
          "model_module": "@jupyter-widgets/controls",
          "model_name": "HBoxModel",
          "model_module_version": "1.5.0",
          "state": {
            "_dom_classes": [],
            "_model_module": "@jupyter-widgets/controls",
            "_model_module_version": "1.5.0",
            "_model_name": "HBoxModel",
            "_view_count": null,
            "_view_module": "@jupyter-widgets/controls",
            "_view_module_version": "1.5.0",
            "_view_name": "HBoxView",
            "box_style": "",
            "children": [
              "IPY_MODEL_b6985f33e9714d11b114983970d3aa86",
              "IPY_MODEL_ba1d1a5d46df450b8795fd84cbe11a38",
              "IPY_MODEL_ce8d6f14152441b0becf21e35f1463f8"
            ],
            "layout": "IPY_MODEL_66a1474c299e491781f54d2e7c2d8fb2"
          }
        },
        "b6985f33e9714d11b114983970d3aa86": {
          "model_module": "@jupyter-widgets/controls",
          "model_name": "HTMLModel",
          "model_module_version": "1.5.0",
          "state": {
            "_dom_classes": [],
            "_model_module": "@jupyter-widgets/controls",
            "_model_module_version": "1.5.0",
            "_model_name": "HTMLModel",
            "_view_count": null,
            "_view_module": "@jupyter-widgets/controls",
            "_view_module_version": "1.5.0",
            "_view_name": "HTMLView",
            "description": "",
            "description_tooltip": null,
            "layout": "IPY_MODEL_b7f3492ca109438e9bb20dac0f6d3229",
            "placeholder": "​",
            "style": "IPY_MODEL_c57d80b1af074c8bb0c3cd31f3de6b56",
            "value": "Generating train split: "
          }
        },
        "ba1d1a5d46df450b8795fd84cbe11a38": {
          "model_module": "@jupyter-widgets/controls",
          "model_name": "FloatProgressModel",
          "model_module_version": "1.5.0",
          "state": {
            "_dom_classes": [],
            "_model_module": "@jupyter-widgets/controls",
            "_model_module_version": "1.5.0",
            "_model_name": "FloatProgressModel",
            "_view_count": null,
            "_view_module": "@jupyter-widgets/controls",
            "_view_module_version": "1.5.0",
            "_view_name": "ProgressView",
            "bar_style": "success",
            "description": "",
            "description_tooltip": null,
            "layout": "IPY_MODEL_37d80d46679542818031f120edb0fa4b",
            "max": 1,
            "min": 0,
            "orientation": "horizontal",
            "style": "IPY_MODEL_071178d743094d409028b694b93d6cd0",
            "value": 1
          }
        },
        "ce8d6f14152441b0becf21e35f1463f8": {
          "model_module": "@jupyter-widgets/controls",
          "model_name": "HTMLModel",
          "model_module_version": "1.5.0",
          "state": {
            "_dom_classes": [],
            "_model_module": "@jupyter-widgets/controls",
            "_model_module_version": "1.5.0",
            "_model_name": "HTMLModel",
            "_view_count": null,
            "_view_module": "@jupyter-widgets/controls",
            "_view_module_version": "1.5.0",
            "_view_name": "HTMLView",
            "description": "",
            "description_tooltip": null,
            "layout": "IPY_MODEL_072086f780064a35952290e39eb506c8",
            "placeholder": "​",
            "style": "IPY_MODEL_bc52c5f2d92947648a8009cc0ff81d63",
            "value": " 912/0 [00:00&lt;00:00, 21598.88 examples/s]"
          }
        },
        "66a1474c299e491781f54d2e7c2d8fb2": {
          "model_module": "@jupyter-widgets/base",
          "model_name": "LayoutModel",
          "model_module_version": "1.2.0",
          "state": {
            "_model_module": "@jupyter-widgets/base",
            "_model_module_version": "1.2.0",
            "_model_name": "LayoutModel",
            "_view_count": null,
            "_view_module": "@jupyter-widgets/base",
            "_view_module_version": "1.2.0",
            "_view_name": "LayoutView",
            "align_content": null,
            "align_items": null,
            "align_self": null,
            "border": null,
            "bottom": null,
            "display": null,
            "flex": null,
            "flex_flow": null,
            "grid_area": null,
            "grid_auto_columns": null,
            "grid_auto_flow": null,
            "grid_auto_rows": null,
            "grid_column": null,
            "grid_gap": null,
            "grid_row": null,
            "grid_template_areas": null,
            "grid_template_columns": null,
            "grid_template_rows": null,
            "height": null,
            "justify_content": null,
            "justify_items": null,
            "left": null,
            "margin": null,
            "max_height": null,
            "max_width": null,
            "min_height": null,
            "min_width": null,
            "object_fit": null,
            "object_position": null,
            "order": null,
            "overflow": null,
            "overflow_x": null,
            "overflow_y": null,
            "padding": null,
            "right": null,
            "top": null,
            "visibility": null,
            "width": null
          }
        },
        "b7f3492ca109438e9bb20dac0f6d3229": {
          "model_module": "@jupyter-widgets/base",
          "model_name": "LayoutModel",
          "model_module_version": "1.2.0",
          "state": {
            "_model_module": "@jupyter-widgets/base",
            "_model_module_version": "1.2.0",
            "_model_name": "LayoutModel",
            "_view_count": null,
            "_view_module": "@jupyter-widgets/base",
            "_view_module_version": "1.2.0",
            "_view_name": "LayoutView",
            "align_content": null,
            "align_items": null,
            "align_self": null,
            "border": null,
            "bottom": null,
            "display": null,
            "flex": null,
            "flex_flow": null,
            "grid_area": null,
            "grid_auto_columns": null,
            "grid_auto_flow": null,
            "grid_auto_rows": null,
            "grid_column": null,
            "grid_gap": null,
            "grid_row": null,
            "grid_template_areas": null,
            "grid_template_columns": null,
            "grid_template_rows": null,
            "height": null,
            "justify_content": null,
            "justify_items": null,
            "left": null,
            "margin": null,
            "max_height": null,
            "max_width": null,
            "min_height": null,
            "min_width": null,
            "object_fit": null,
            "object_position": null,
            "order": null,
            "overflow": null,
            "overflow_x": null,
            "overflow_y": null,
            "padding": null,
            "right": null,
            "top": null,
            "visibility": null,
            "width": null
          }
        },
        "c57d80b1af074c8bb0c3cd31f3de6b56": {
          "model_module": "@jupyter-widgets/controls",
          "model_name": "DescriptionStyleModel",
          "model_module_version": "1.5.0",
          "state": {
            "_model_module": "@jupyter-widgets/controls",
            "_model_module_version": "1.5.0",
            "_model_name": "DescriptionStyleModel",
            "_view_count": null,
            "_view_module": "@jupyter-widgets/base",
            "_view_module_version": "1.2.0",
            "_view_name": "StyleView",
            "description_width": ""
          }
        },
        "37d80d46679542818031f120edb0fa4b": {
          "model_module": "@jupyter-widgets/base",
          "model_name": "LayoutModel",
          "model_module_version": "1.2.0",
          "state": {
            "_model_module": "@jupyter-widgets/base",
            "_model_module_version": "1.2.0",
            "_model_name": "LayoutModel",
            "_view_count": null,
            "_view_module": "@jupyter-widgets/base",
            "_view_module_version": "1.2.0",
            "_view_name": "LayoutView",
            "align_content": null,
            "align_items": null,
            "align_self": null,
            "border": null,
            "bottom": null,
            "display": null,
            "flex": null,
            "flex_flow": null,
            "grid_area": null,
            "grid_auto_columns": null,
            "grid_auto_flow": null,
            "grid_auto_rows": null,
            "grid_column": null,
            "grid_gap": null,
            "grid_row": null,
            "grid_template_areas": null,
            "grid_template_columns": null,
            "grid_template_rows": null,
            "height": null,
            "justify_content": null,
            "justify_items": null,
            "left": null,
            "margin": null,
            "max_height": null,
            "max_width": null,
            "min_height": null,
            "min_width": null,
            "object_fit": null,
            "object_position": null,
            "order": null,
            "overflow": null,
            "overflow_x": null,
            "overflow_y": null,
            "padding": null,
            "right": null,
            "top": null,
            "visibility": null,
            "width": "20px"
          }
        },
        "071178d743094d409028b694b93d6cd0": {
          "model_module": "@jupyter-widgets/controls",
          "model_name": "ProgressStyleModel",
          "model_module_version": "1.5.0",
          "state": {
            "_model_module": "@jupyter-widgets/controls",
            "_model_module_version": "1.5.0",
            "_model_name": "ProgressStyleModel",
            "_view_count": null,
            "_view_module": "@jupyter-widgets/base",
            "_view_module_version": "1.2.0",
            "_view_name": "StyleView",
            "bar_color": null,
            "description_width": ""
          }
        },
        "072086f780064a35952290e39eb506c8": {
          "model_module": "@jupyter-widgets/base",
          "model_name": "LayoutModel",
          "model_module_version": "1.2.0",
          "state": {
            "_model_module": "@jupyter-widgets/base",
            "_model_module_version": "1.2.0",
            "_model_name": "LayoutModel",
            "_view_count": null,
            "_view_module": "@jupyter-widgets/base",
            "_view_module_version": "1.2.0",
            "_view_name": "LayoutView",
            "align_content": null,
            "align_items": null,
            "align_self": null,
            "border": null,
            "bottom": null,
            "display": null,
            "flex": null,
            "flex_flow": null,
            "grid_area": null,
            "grid_auto_columns": null,
            "grid_auto_flow": null,
            "grid_auto_rows": null,
            "grid_column": null,
            "grid_gap": null,
            "grid_row": null,
            "grid_template_areas": null,
            "grid_template_columns": null,
            "grid_template_rows": null,
            "height": null,
            "justify_content": null,
            "justify_items": null,
            "left": null,
            "margin": null,
            "max_height": null,
            "max_width": null,
            "min_height": null,
            "min_width": null,
            "object_fit": null,
            "object_position": null,
            "order": null,
            "overflow": null,
            "overflow_x": null,
            "overflow_y": null,
            "padding": null,
            "right": null,
            "top": null,
            "visibility": null,
            "width": null
          }
        },
        "bc52c5f2d92947648a8009cc0ff81d63": {
          "model_module": "@jupyter-widgets/controls",
          "model_name": "DescriptionStyleModel",
          "model_module_version": "1.5.0",
          "state": {
            "_model_module": "@jupyter-widgets/controls",
            "_model_module_version": "1.5.0",
            "_model_name": "DescriptionStyleModel",
            "_view_count": null,
            "_view_module": "@jupyter-widgets/base",
            "_view_module_version": "1.2.0",
            "_view_name": "StyleView",
            "description_width": ""
          }
        }
      }
    }
  },
  "nbformat": 4,
  "nbformat_minor": 0
}